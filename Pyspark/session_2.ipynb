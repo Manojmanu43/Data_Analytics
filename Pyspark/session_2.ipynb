{
 "cells": [
  {
   "cell_type": "code",
   "execution_count": 2,
   "id": "ec1252df",
   "metadata": {},
   "outputs": [],
   "source": [
    "import findspark;\n",
    "import time;\n",
    "from pyspark import SparkContext\n",
    "findspark.find()\n",
    "findspark.init()\n",
    "try:\n",
    "    sc=SparkContext(\"local\",\"spark_example\")\n",
    "except:\n",
    "    sc.stop()\n",
    "    sc=SparkContext(\"local\",\"spark_example\")\n",
    "def st():\n",
    "    global start_time\n",
    "    start_time=time.time()\n",
    "def exec():\n",
    "    print(\"Time for exectuion:\" , time.time()-start_time)"
   ]
  },
  {
   "cell_type": "code",
   "execution_count": 3,
   "id": "a4f81671",
   "metadata": {},
   "outputs": [],
   "source": [
    "import random\n",
    "def func():\n",
    "    num=10000\n",
    "    list=[]\n",
    "    list1=[]\n",
    "    while num>0:\n",
    "        list.append(round(random.random(),2))\n",
    "        list1.append(random.randint(1,1000))\n",
    "        num-=1\n",
    "    return list,list1\n",
    "a,b=func()\n"
   ]
  },
  {
   "cell_type": "code",
   "execution_count": 4,
   "id": "0f765b53",
   "metadata": {},
   "outputs": [
    {
     "data": {
      "text/plain": [
       "[22, 5, 564, 135]"
      ]
     },
     "execution_count": 4,
     "metadata": {},
     "output_type": "execute_result"
    }
   ],
   "source": [
    "rdd=sc.parallelize(b,100)\n",
    "rdd.take(4)"
   ]
  },
  {
   "cell_type": "code",
   "execution_count": 5,
   "id": "954c52b8",
   "metadata": {},
   "outputs": [
    {
     "name": "stdout",
     "output_type": "stream",
     "text": [
      "Time Consumed: 39.855326414108276\n"
     ]
    }
   ],
   "source": [
    "rdd=sc.parallelize(b,100)\n",
    "start_time=time.time()\n",
    "rdd.count()\n",
    "print(\"Time Consumed:\" ,time.time() - start_time)"
   ]
  },
  {
   "cell_type": "code",
   "execution_count": 6,
   "id": "84153cca",
   "metadata": {},
   "outputs": [
    {
     "name": "stdout",
     "output_type": "stream",
     "text": [
      "Time Consumed: 3.9974117279052734\n"
     ]
    }
   ],
   "source": [
    "rdd=sc.parallelize(b,10)\n",
    "start_time=time.time()\n",
    "rdd.count()\n",
    "print(\"Time Consumed:\" ,time.time() - start_time)"
   ]
  },
  {
   "cell_type": "code",
   "execution_count": 7,
   "id": "60a312af",
   "metadata": {},
   "outputs": [
    {
     "name": "stdout",
     "output_type": "stream",
     "text": [
      "Time Consumed: 0.47690677642822266\n"
     ]
    }
   ],
   "source": [
    "rdd=sc.parallelize(b,1)\n",
    "start_time=time.time()\n",
    "rdd.count()\n",
    "print(\"Time Consumed:\" ,time.time() - start_time)"
   ]
  },
  {
   "cell_type": "code",
   "execution_count": 8,
   "id": "3cfe403f",
   "metadata": {},
   "outputs": [
    {
     "name": "stdout",
     "output_type": "stream",
     "text": [
      "1629352312.1960447\n",
      "1629352268.0309691\n",
      "Time Consumed: 44.1650755405426\n"
     ]
    }
   ],
   "source": [
    "print(time.time())\n",
    "print(start_time)\n",
    "print(\"Time Consumed:\" ,time.time() - start_time)"
   ]
  },
  {
   "cell_type": "code",
   "execution_count": null,
   "id": "ace48537",
   "metadata": {},
   "outputs": [],
   "source": []
  }
 ],
 "metadata": {
  "kernelspec": {
   "display_name": "Python 3",
   "language": "python",
   "name": "python3"
  },
  "language_info": {
   "codemirror_mode": {
    "name": "ipython",
    "version": 3
   },
   "file_extension": ".py",
   "mimetype": "text/x-python",
   "name": "python",
   "nbconvert_exporter": "python",
   "pygments_lexer": "ipython3",
   "version": "3.8.8"
  }
 },
 "nbformat": 4,
 "nbformat_minor": 5
}
