{
 "cells": [
  {
   "cell_type": "code",
   "execution_count": 1,
   "id": "4ffa5f9a",
   "metadata": {},
   "outputs": [
    {
     "name": "stdout",
     "output_type": "stream",
     "text": [
      "Not required, pyspark is already installed\n"
     ]
    }
   ],
   "source": [
    "#!pip install pyspark\n",
    "#!pip install findspark\n",
    "print('Not required, pyspark is already installed')"
   ]
  },
  {
   "cell_type": "code",
   "execution_count": 2,
   "id": "3720730f",
   "metadata": {},
   "outputs": [],
   "source": [
    "import pyspark"
   ]
  },
  {
   "cell_type": "code",
   "execution_count": 3,
   "id": "ea98c8eb",
   "metadata": {},
   "outputs": [
    {
     "name": "stdout",
     "output_type": "stream",
     "text": [
      "C:\\Users\\venka\\My Python Work\\Pyspark\n"
     ]
    }
   ],
   "source": [
    "import pandas as pd;\n",
    "import os\n",
    "current_directory = os.getcwd()\n",
    "print(current_directory) "
   ]
  },
  {
   "cell_type": "code",
   "execution_count": 4,
   "id": "4c16acc8",
   "metadata": {},
   "outputs": [
    {
     "data": {
      "text/html": [
       "<div>\n",
       "<style scoped>\n",
       "    .dataframe tbody tr th:only-of-type {\n",
       "        vertical-align: middle;\n",
       "    }\n",
       "\n",
       "    .dataframe tbody tr th {\n",
       "        vertical-align: top;\n",
       "    }\n",
       "\n",
       "    .dataframe thead th {\n",
       "        text-align: right;\n",
       "    }\n",
       "</style>\n",
       "<table border=\"1\" class=\"dataframe\">\n",
       "  <thead>\n",
       "    <tr style=\"text-align: right;\">\n",
       "      <th></th>\n",
       "      <th>Name</th>\n",
       "      <th>Designation</th>\n",
       "      <th>Exper</th>\n",
       "    </tr>\n",
       "  </thead>\n",
       "  <tbody>\n",
       "    <tr>\n",
       "      <th>0</th>\n",
       "      <td>Manoj</td>\n",
       "      <td>SSE</td>\n",
       "      <td>5</td>\n",
       "    </tr>\n",
       "    <tr>\n",
       "      <th>1</th>\n",
       "      <td>Santosh</td>\n",
       "      <td>SSE</td>\n",
       "      <td>6</td>\n",
       "    </tr>\n",
       "    <tr>\n",
       "      <th>2</th>\n",
       "      <td>Golari</td>\n",
       "      <td>SSE Retired</td>\n",
       "      <td>7</td>\n",
       "    </tr>\n",
       "    <tr>\n",
       "      <th>3</th>\n",
       "      <td>Som</td>\n",
       "      <td>SSE</td>\n",
       "      <td>6</td>\n",
       "    </tr>\n",
       "    <tr>\n",
       "      <th>4</th>\n",
       "      <td>Veera</td>\n",
       "      <td>SE</td>\n",
       "      <td>4</td>\n",
       "    </tr>\n",
       "    <tr>\n",
       "      <th>5</th>\n",
       "      <td>sahithi</td>\n",
       "      <td>SSE</td>\n",
       "      <td>6</td>\n",
       "    </tr>\n",
       "  </tbody>\n",
       "</table>\n",
       "</div>"
      ],
      "text/plain": [
       "      Name  Designation  Exper\n",
       "0    Manoj          SSE      5\n",
       "1  Santosh          SSE      6\n",
       "2   Golari  SSE Retired      7\n",
       "3      Som          SSE      6\n",
       "4   Veera            SE      4\n",
       "5  sahithi          SSE      6"
      ]
     },
     "execution_count": 4,
     "metadata": {},
     "output_type": "execute_result"
    }
   ],
   "source": [
    "df=pd.read_csv('test1.csv')\n",
    "df"
   ]
  },
  {
   "cell_type": "code",
   "execution_count": 5,
   "id": "ad3dcb68",
   "metadata": {},
   "outputs": [
    {
     "data": {
      "text/html": [
       "\n",
       "            <div>\n",
       "                <p><b>SparkSession - in-memory</b></p>\n",
       "                \n",
       "        <div>\n",
       "            <p><b>SparkContext</b></p>\n",
       "\n",
       "            <p><a href=\"http://MSI:4040\">Spark UI</a></p>\n",
       "\n",
       "            <dl>\n",
       "              <dt>Version</dt>\n",
       "                <dd><code>v3.1.2</code></dd>\n",
       "              <dt>Master</dt>\n",
       "                <dd><code>local[*]</code></dd>\n",
       "              <dt>AppName</dt>\n",
       "                <dd><code>Practise</code></dd>\n",
       "            </dl>\n",
       "        </div>\n",
       "        \n",
       "            </div>\n",
       "        "
      ],
      "text/plain": [
       "<pyspark.sql.session.SparkSession at 0x23b912e5f70>"
      ]
     },
     "execution_count": 5,
     "metadata": {},
     "output_type": "execute_result"
    }
   ],
   "source": [
    "from pyspark.sql import SparkSession\n",
    "spark=SparkSession.builder.appName('Practise').getOrCreate()\n",
    "spark"
   ]
  },
  {
   "cell_type": "code",
   "execution_count": 6,
   "id": "07562b05",
   "metadata": {},
   "outputs": [
    {
     "name": "stdout",
     "output_type": "stream",
     "text": [
      "+-------+-----------+-----+\n",
      "|    _c0|        _c1|  _c2|\n",
      "+-------+-----------+-----+\n",
      "|   Name|Designation|Exper|\n",
      "|  Manoj|        SSE|    5|\n",
      "|Santosh|        SSE|    6|\n",
      "| Golari|SSE Retired|    7|\n",
      "|    Som|        SSE|    6|\n",
      "| Veera |         SE|    4|\n",
      "|sahithi|        SSE|    6|\n",
      "+-------+-----------+-----+\n",
      "\n"
     ]
    }
   ],
   "source": [
    "spark_df=spark.read.csv('test1.csv') #creates own header\n",
    "spark_df.show()"
   ]
  },
  {
   "cell_type": "code",
   "execution_count": 7,
   "id": "70d86c28",
   "metadata": {},
   "outputs": [
    {
     "name": "stdout",
     "output_type": "stream",
     "text": [
      "+-------+-----------+-----+\n",
      "|   Name|Designation|Exper|\n",
      "+-------+-----------+-----+\n",
      "|  Manoj|        SSE|    5|\n",
      "|Santosh|        SSE|    6|\n",
      "| Golari|SSE Retired|    7|\n",
      "|    Som|        SSE|    6|\n",
      "| Veera |         SE|    4|\n",
      "|sahithi|        SSE|    6|\n",
      "+-------+-----------+-----+\n",
      "\n"
     ]
    }
   ],
   "source": [
    "spark_df=spark.read.option('header','true').csv('test1.csv') #not creates separte header\n",
    "spark_df.show()"
   ]
  },
  {
   "cell_type": "code",
   "execution_count": 8,
   "id": "748f6cc2",
   "metadata": {},
   "outputs": [
    {
     "name": "stdout",
     "output_type": "stream",
     "text": [
      "root\n",
      " |-- Name: string (nullable = true)\n",
      " |-- Designation: string (nullable = true)\n",
      " |-- Exper: string (nullable = true)\n",
      "\n"
     ]
    }
   ],
   "source": [
    "spark_df.printSchema()"
   ]
  },
  {
   "cell_type": "code",
   "execution_count": 9,
   "id": "81a6a7a2",
   "metadata": {},
   "outputs": [
    {
     "data": {
      "text/plain": [
       "DataFrame[Name: string, Designation: string, Exper: int]"
      ]
     },
     "execution_count": 9,
     "metadata": {},
     "output_type": "execute_result"
    }
   ],
   "source": [
    "spark_df=spark.read.option('header','true').csv('test1.csv',inferSchema=True)\n",
    "spark_df"
   ]
  },
  {
   "cell_type": "code",
   "execution_count": 10,
   "id": "1c2885b4",
   "metadata": {},
   "outputs": [
    {
     "name": "stdout",
     "output_type": "stream",
     "text": [
      "+-------+-----------+-----+\n",
      "|   Name|Designation|Exper|\n",
      "+-------+-----------+-----+\n",
      "|  Manoj|        SSE|    5|\n",
      "|Santosh|        SSE|    6|\n",
      "| Golari|SSE Retired|    7|\n",
      "|    Som|        SSE|    6|\n",
      "| Veera |         SE|    4|\n",
      "|sahithi|        SSE|    6|\n",
      "+-------+-----------+-----+\n",
      "\n"
     ]
    }
   ],
   "source": [
    "spark_df.show()"
   ]
  },
  {
   "cell_type": "code",
   "execution_count": 11,
   "id": "0265e286",
   "metadata": {},
   "outputs": [],
   "source": [
    "#Column name\n",
    "spark_df.columns\n",
    "sd=spark_df"
   ]
  },
  {
   "cell_type": "code",
   "execution_count": 12,
   "id": "2de9befa",
   "metadata": {},
   "outputs": [
    {
     "data": {
      "text/plain": [
       "DataFrame[Name: string, Designation: string, Exper: int]"
      ]
     },
     "execution_count": 12,
     "metadata": {},
     "output_type": "execute_result"
    }
   ],
   "source": [
    "sd"
   ]
  },
  {
   "cell_type": "code",
   "execution_count": 13,
   "id": "8ff4fa61",
   "metadata": {},
   "outputs": [
    {
     "name": "stdout",
     "output_type": "stream",
     "text": [
      "+-------+-----------+-----+\n",
      "|   Name|Designation|Exper|\n",
      "+-------+-----------+-----+\n",
      "|  Manoj|        SSE|    5|\n",
      "|Santosh|        SSE|    6|\n",
      "| Golari|SSE Retired|    7|\n",
      "|    Som|        SSE|    6|\n",
      "| Veera |         SE|    4|\n",
      "|sahithi|        SSE|    6|\n",
      "+-------+-----------+-----+\n",
      "\n"
     ]
    }
   ],
   "source": [
    "sd.show()"
   ]
  },
  {
   "cell_type": "code",
   "execution_count": 14,
   "id": "51edd487",
   "metadata": {},
   "outputs": [
    {
     "data": {
      "text/plain": [
       "[Row(Name='Manoj', Designation='SSE', Exper=5),\n",
       " Row(Name='Santosh', Designation='SSE', Exper=6)]"
      ]
     },
     "execution_count": 14,
     "metadata": {},
     "output_type": "execute_result"
    }
   ],
   "source": [
    "sd.head(2)"
   ]
  },
  {
   "cell_type": "code",
   "execution_count": 15,
   "id": "39d33602",
   "metadata": {},
   "outputs": [
    {
     "name": "stdout",
     "output_type": "stream",
     "text": [
      "+-------+\n",
      "|   Name|\n",
      "+-------+\n",
      "|  Manoj|\n",
      "|Santosh|\n",
      "| Golari|\n",
      "|    Som|\n",
      "| Veera |\n",
      "|sahithi|\n",
      "+-------+\n",
      "\n"
     ]
    }
   ],
   "source": [
    "sd.select('Name').show()"
   ]
  },
  {
   "cell_type": "code",
   "execution_count": 16,
   "id": "39df57a8",
   "metadata": {},
   "outputs": [
    {
     "name": "stdout",
     "output_type": "stream",
     "text": [
      "+-------+-----------+\n",
      "|   Name|Designation|\n",
      "+-------+-----------+\n",
      "|  Manoj|        SSE|\n",
      "|Santosh|        SSE|\n",
      "| Golari|SSE Retired|\n",
      "|    Som|        SSE|\n",
      "| Veera |         SE|\n",
      "|sahithi|        SSE|\n",
      "+-------+-----------+\n",
      "\n"
     ]
    }
   ],
   "source": [
    "sd.select(['Name','Designation']).show()"
   ]
  },
  {
   "cell_type": "code",
   "execution_count": 17,
   "id": "edb671b8",
   "metadata": {},
   "outputs": [
    {
     "data": {
      "text/plain": [
       "[Row(Name='Veera ', Designation='SE', Exper=4),\n",
       " Row(Name='sahithi', Designation='SSE', Exper=6)]"
      ]
     },
     "execution_count": 17,
     "metadata": {},
     "output_type": "execute_result"
    }
   ],
   "source": [
    "sd.tail(2)"
   ]
  },
  {
   "cell_type": "code",
   "execution_count": 18,
   "id": "9b8ec663",
   "metadata": {},
   "outputs": [
    {
     "data": {
      "text/plain": [
       "[('Name', 'string'), ('Designation', 'string'), ('Exper', 'int')]"
      ]
     },
     "execution_count": 18,
     "metadata": {},
     "output_type": "execute_result"
    }
   ],
   "source": [
    "sd.dtypes"
   ]
  },
  {
   "cell_type": "code",
   "execution_count": 19,
   "id": "0df56c94",
   "metadata": {},
   "outputs": [
    {
     "name": "stdout",
     "output_type": "stream",
     "text": [
      "+-------+-------+-----------+------------------+\n",
      "|summary|   Name|Designation|             Exper|\n",
      "+-------+-------+-----------+------------------+\n",
      "|  count|      6|          6|                 6|\n",
      "|   mean|   null|       null| 5.666666666666667|\n",
      "| stddev|   null|       null|1.0327955589886446|\n",
      "|    min| Golari|         SE|                 4|\n",
      "|    max|sahithi|SSE Retired|                 7|\n",
      "+-------+-------+-----------+------------------+\n",
      "\n"
     ]
    }
   ],
   "source": [
    "sd.describe().show()\n"
   ]
  },
  {
   "cell_type": "code",
   "execution_count": 20,
   "id": "24332248",
   "metadata": {},
   "outputs": [],
   "source": [
    "#loc=['Tenali','Hyd','Orissa','Ranchi','TN','AP']\n",
    "#sd_new=spark.read(loc)\n",
    "#sd.withColumn('Location',loc).show()"
   ]
  },
  {
   "cell_type": "code",
   "execution_count": 28,
   "id": "a12f7a82",
   "metadata": {},
   "outputs": [],
   "source": [
    "spark.stop()"
   ]
  },
  {
   "cell_type": "code",
   "execution_count": 29,
   "id": "31e9f1e0",
   "metadata": {},
   "outputs": [
    {
     "data": {
      "text/plain": [
       "[('spark.master', 'local'),\n",
       " ('spark.driver.port', '60893'),\n",
       " ('spark.rdd.compress', 'True'),\n",
       " ('spark.app.name', 'spark_example'),\n",
       " ('spark.serializer.objectStreamReset', '100'),\n",
       " ('spark.app.id', 'local-1629351878204'),\n",
       " ('spark.submit.pyFiles', ''),\n",
       " ('spark.executor.id', 'driver'),\n",
       " ('spark.app.startTime', '1629351878133'),\n",
       " ('spark.submit.deployMode', 'client'),\n",
       " ('spark.ui.showConsoleProgress', 'true'),\n",
       " ('spark.driver.host', 'MSI')]"
      ]
     },
     "execution_count": 29,
     "metadata": {},
     "output_type": "execute_result"
    }
   ],
   "source": [
    "import findspark;\n",
    "findspark.find()\n",
    "findspark.init()\n",
    "from pyspark import SparkContext\n",
    "sc=SparkContext()\n",
    "sc.stop()\n",
    "sc=SparkContext(\"local\",\"spark_example\")\n",
    "sc.getConf().getAll()"
   ]
  },
  {
   "cell_type": "code",
   "execution_count": 31,
   "id": "0dca7ec7",
   "metadata": {},
   "outputs": [
    {
     "name": "stdout",
     "output_type": "stream",
     "text": [
      "<class 'pyspark.rdd.RDD'>\n",
      "<class 'list'>\n"
     ]
    },
    {
     "data": {
      "text/plain": [
       "[1, 2, 3, 'Manoj', 'Golari', 'Santosh', 'Manoj']"
      ]
     },
     "execution_count": 31,
     "metadata": {},
     "output_type": "execute_result"
    }
   ],
   "source": [
    "rdd=sc.parallelize([1,2,3,'Manoj','Golari','Santosh','Manoj'])\n",
    "print(type(rdd))\n",
    "print(type(rdd.collect()))\n",
    "rdd.collect()"
   ]
  },
  {
   "cell_type": "code",
   "execution_count": 32,
   "id": "7c03083b",
   "metadata": {},
   "outputs": [
    {
     "data": {
      "text/plain": [
       "[1, 2, 3, 'Manoj', 'Golari', 'Santosh', 'Manoj']"
      ]
     },
     "execution_count": 32,
     "metadata": {},
     "output_type": "execute_result"
    }
   ],
   "source": [
    "sc.getConf().getAll()\n",
    "type(rdd.take(7))\n",
    "rdd.take(7)"
   ]
  },
  {
   "cell_type": "code",
   "execution_count": 33,
   "id": "fbbd737d",
   "metadata": {},
   "outputs": [
    {
     "data": {
      "text/plain": [
       "defaultdict(int, {1: 1, 2: 1, 3: 1, 'Manoj': 2, 'Golari': 1, 'Santosh': 1})"
      ]
     },
     "execution_count": 33,
     "metadata": {},
     "output_type": "execute_result"
    }
   ],
   "source": [
    "rdd.countByValue()"
   ]
  },
  {
   "cell_type": "code",
   "execution_count": null,
   "id": "0cd827f0",
   "metadata": {},
   "outputs": [],
   "source": [
    "import findspark;\n",
    "findspark.find()\n",
    "findspark.init()\n",
    "from pyspark import SparkContext\n",
    "sc.stop()\n",
    "sc=SparkContext(\"local\",\"spark_example\")"
   ]
  },
  {
   "cell_type": "code",
   "execution_count": 34,
   "id": "1fac01d5",
   "metadata": {},
   "outputs": [
    {
     "data": {
      "text/plain": [
       "['Name\\tDesignation',\n",
       " 'Manoj\\tSSE',\n",
       " 'Santosh\\tSSE',\n",
       " 'Golari\\tSSE Retired',\n",
       " 'Som\\tSSE',\n",
       " 'Veera \\tSE',\n",
       " 'sahithi\\tSSE']"
      ]
     },
     "execution_count": 34,
     "metadata": {},
     "output_type": "execute_result"
    }
   ],
   "source": [
    "rdd=sc.textFile(\"test1.txt\")\n",
    "rdd.collect()"
   ]
  },
  {
   "cell_type": "code",
   "execution_count": 35,
   "id": "f6bb81dc",
   "metadata": {},
   "outputs": [],
   "source": [
    "list=[i for i in range(10)]\n",
    "list.append(1)\n",
    "rdd1=sc.parallelize(list,3)"
   ]
  },
  {
   "cell_type": "code",
   "execution_count": 36,
   "id": "e20bd603",
   "metadata": {},
   "outputs": [
    {
     "data": {
      "text/plain": [
       "[0, 1, 2, 3, 4, 5, 6, 7, 8, 9, 1]"
      ]
     },
     "execution_count": 36,
     "metadata": {},
     "output_type": "execute_result"
    }
   ],
   "source": [
    "rdd1.collect()"
   ]
  },
  {
   "cell_type": "code",
   "execution_count": 37,
   "id": "e21cc74b",
   "metadata": {},
   "outputs": [
    {
     "data": {
      "text/plain": [
       "defaultdict(int, {0: 1, 1: 2, 2: 1, 3: 1, 4: 1, 5: 1, 6: 1, 7: 1, 8: 1, 9: 1})"
      ]
     },
     "execution_count": 37,
     "metadata": {},
     "output_type": "execute_result"
    }
   ],
   "source": [
    "rdd1.countByValue()"
   ]
  },
  {
   "cell_type": "code",
   "execution_count": 38,
   "id": "a07d29d4",
   "metadata": {},
   "outputs": [
    {
     "data": {
      "text/plain": [
       "[[0, 1, 2], [3, 4, 5], [6, 7, 8, 9, 1]]"
      ]
     },
     "execution_count": 38,
     "metadata": {},
     "output_type": "execute_result"
    }
   ],
   "source": [
    "rdd1.glom().collect()"
   ]
  },
  {
   "cell_type": "code",
   "execution_count": 39,
   "id": "4b2ca6e7",
   "metadata": {},
   "outputs": [
    {
     "data": {
      "text/plain": [
       "[[0, 1, 2], [3, 4, 5], [6, 7, 8, 9, 1]]"
      ]
     },
     "execution_count": 39,
     "metadata": {},
     "output_type": "execute_result"
    }
   ],
   "source": [
    "rdd1.glom().collect()"
   ]
  },
  {
   "cell_type": "code",
   "execution_count": 40,
   "id": "f459d59b",
   "metadata": {},
   "outputs": [
    {
     "data": {
      "text/plain": [
       "(0, 9, 46, 11, 4.181818181818182)"
      ]
     },
     "execution_count": 40,
     "metadata": {},
     "output_type": "execute_result"
    }
   ],
   "source": [
    "rdd1.min(), rdd1.max(),rdd1.sum(), rdd1.count(), rdd1.mean()"
   ]
  },
  {
   "cell_type": "code",
   "execution_count": 41,
   "id": "897c66f1",
   "metadata": {},
   "outputs": [
    {
     "data": {
      "text/plain": [
       "(10, [0, 1, 1])"
      ]
     },
     "execution_count": 41,
     "metadata": {},
     "output_type": "execute_result"
    }
   ],
   "source": [
    "a=rdd1.distinct()\n",
    "a.count(), rdd1.takeOrdered(3)"
   ]
  },
  {
   "cell_type": "code",
   "execution_count": 47,
   "id": "ff918e1a",
   "metadata": {},
   "outputs": [
    {
     "data": {
      "text/plain": [
       "[0, 3, 6, 9, 1, 4, 7, 2, 5, 8]"
      ]
     },
     "execution_count": 47,
     "metadata": {},
     "output_type": "execute_result"
    }
   ],
   "source": [
    "a.collect()"
   ]
  },
  {
   "cell_type": "code",
   "execution_count": 48,
   "id": "0be39442",
   "metadata": {},
   "outputs": [
    {
     "data": {
      "text/plain": [
       "[0, 1, 2, 3, 4, 5, 6, 7, 8, 9, 1]"
      ]
     },
     "execution_count": 48,
     "metadata": {},
     "output_type": "execute_result"
    }
   ],
   "source": [
    "rdd1.collect()"
   ]
  },
  {
   "cell_type": "code",
   "execution_count": 42,
   "id": "e80db0ed",
   "metadata": {},
   "outputs": [
    {
     "data": {
      "text/plain": [
       "[0, 1, 4, 9, 16, 25, 36, 49, 64, 81, 1]"
      ]
     },
     "execution_count": 42,
     "metadata": {},
     "output_type": "execute_result"
    }
   ],
   "source": [
    "b=rdd1.map(lambda x:x**2)\n",
    "c=rdd1.reduce(lambda a,b:a+b)\n",
    "b.collect()"
   ]
  },
  {
   "cell_type": "code",
   "execution_count": 49,
   "id": "aa1da0ae",
   "metadata": {},
   "outputs": [
    {
     "data": {
      "text/plain": [
       "46"
      ]
     },
     "execution_count": 49,
     "metadata": {},
     "output_type": "execute_result"
    }
   ],
   "source": [
    "c"
   ]
  },
  {
   "cell_type": "code",
   "execution_count": 50,
   "id": "78db9ee8",
   "metadata": {},
   "outputs": [
    {
     "data": {
      "text/plain": [
       "2026"
      ]
     },
     "execution_count": 50,
     "metadata": {},
     "output_type": "execute_result"
    }
   ],
   "source": [
    "d=rdd1.map(lambda x:x**3).reduce(lambda x,y:x+y)\n",
    "d"
   ]
  },
  {
   "cell_type": "code",
   "execution_count": 51,
   "id": "25bdaf21",
   "metadata": {},
   "outputs": [
    {
     "name": "stdout",
     "output_type": "stream",
     "text": [
      "46\n",
      "50\n",
      "0\n",
      "0\n"
     ]
    }
   ],
   "source": [
    "print(rdd1.reduce(lambda a,b:a+b))\n",
    "print(rdd1.fold(1,lambda a,b:a+b))\n",
    "print(rdd1.reduce(lambda a,b:a*b))\n",
    "print(rdd1.fold(1,lambda a,b:a*b))"
   ]
  },
  {
   "cell_type": "code",
   "execution_count": null,
   "id": "ed8fe846",
   "metadata": {},
   "outputs": [],
   "source": []
  }
 ],
 "metadata": {
  "kernelspec": {
   "display_name": "Python 3",
   "language": "python",
   "name": "python3"
  },
  "language_info": {
   "codemirror_mode": {
    "name": "ipython",
    "version": 3
   },
   "file_extension": ".py",
   "mimetype": "text/x-python",
   "name": "python",
   "nbconvert_exporter": "python",
   "pygments_lexer": "ipython3",
   "version": "3.8.8"
  }
 },
 "nbformat": 4,
 "nbformat_minor": 5
}
