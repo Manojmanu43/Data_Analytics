{
 "cells": [
  {
   "cell_type": "code",
   "execution_count": 1,
   "id": "3d6285e2",
   "metadata": {},
   "outputs": [
    {
     "data": {
      "text/html": [
       "\n",
       "            <div>\n",
       "                <p><b>SparkSession - in-memory</b></p>\n",
       "                \n",
       "        <div>\n",
       "            <p><b>SparkContext</b></p>\n",
       "\n",
       "            <p><a href=\"http://MSI:4040\">Spark UI</a></p>\n",
       "\n",
       "            <dl>\n",
       "              <dt>Version</dt>\n",
       "                <dd><code>v3.1.2</code></dd>\n",
       "              <dt>Master</dt>\n",
       "                <dd><code>local[*]</code></dd>\n",
       "              <dt>AppName</dt>\n",
       "                <dd><code>spark_parquet_example</code></dd>\n",
       "            </dl>\n",
       "        </div>\n",
       "        \n",
       "            </div>\n",
       "        "
      ],
      "text/plain": [
       "<pyspark.sql.session.SparkSession at 0x17abbb41e80>"
      ]
     },
     "execution_count": 1,
     "metadata": {},
     "output_type": "execute_result"
    }
   ],
   "source": [
    "from pyspark.sql import SparkSession\n",
    "from pyspark.sql import SparkSession\n",
    "import findspark\n",
    "findspark.find()\n",
    "findspark.init()\n",
    "spark=SparkSession.builder.appName('spark_parquet_example').getOrCreate()\n",
    "spark"
   ]
  },
  {
   "cell_type": "code",
   "execution_count": 2,
   "id": "b20396d5",
   "metadata": {
    "scrolled": true
   },
   "outputs": [
    {
     "data": {
      "text/plain": [
       "['Region',\n",
       " 'Country',\n",
       " 'Item_Type',\n",
       " 'Sales_Channel',\n",
       " 'Order_Priority',\n",
       " 'Order_Date',\n",
       " 'Order_ID',\n",
       " 'Ship_Date',\n",
       " 'Units_Sold',\n",
       " 'Unit_Price',\n",
       " 'Unit_Cost',\n",
       " 'Total_Revenue',\n",
       " 'Total_Cost',\n",
       " 'Total_Profit']"
      ]
     },
     "execution_count": 2,
     "metadata": {},
     "output_type": "execute_result"
    }
   ],
   "source": [
    "df=spark.read.csv(r'C:\\Users\\venka\\My Python Work\\Pyspark\\10000 Sales Records.csv',header=True,inferSchema=True)\n",
    "list(df.columns)\n",
    "df.columns"
   ]
  },
  {
   "cell_type": "code",
   "execution_count": 3,
   "id": "5bc1a5d6",
   "metadata": {},
   "outputs": [
    {
     "name": "stdout",
     "output_type": "stream",
     "text": [
      "root\n",
      " |-- Region: string (nullable = true)\n",
      " |-- Country: string (nullable = true)\n",
      " |-- Item_Type: string (nullable = true)\n",
      " |-- Sales_Channel: string (nullable = true)\n",
      " |-- Order_Priority: string (nullable = true)\n",
      " |-- Order_Date: string (nullable = true)\n",
      " |-- Order_ID: integer (nullable = true)\n",
      " |-- Ship_Date: string (nullable = true)\n",
      " |-- Units_Sold: integer (nullable = true)\n",
      " |-- Unit_Price: double (nullable = true)\n",
      " |-- Unit_Cost: double (nullable = true)\n",
      " |-- Total_Revenue: double (nullable = true)\n",
      " |-- Total_Cost: double (nullable = true)\n",
      " |-- Total_Profit: double (nullable = true)\n",
      "\n"
     ]
    }
   ],
   "source": [
    "df.printSchema()"
   ]
  },
  {
   "cell_type": "code",
   "execution_count": 4,
   "id": "4eabdaef",
   "metadata": {},
   "outputs": [
    {
     "name": "stdout",
     "output_type": "stream",
     "text": [
      "root\n",
      " |-- Region: string (nullable = true)\n",
      " |-- Country: string (nullable = true)\n",
      " |-- Item_Type: string (nullable = true)\n",
      " |-- Sales_Channel: string (nullable = true)\n",
      " |-- Order_Priority: string (nullable = true)\n",
      " |-- Order_Date: string (nullable = true)\n",
      " |-- Order_ID: integer (nullable = true)\n",
      " |-- Ship_Date: string (nullable = true)\n",
      " |-- Units_Sold: integer (nullable = true)\n",
      " |-- Unit_Price: double (nullable = true)\n",
      " |-- Unit_Cost: double (nullable = true)\n",
      " |-- Total_Revenue: double (nullable = true)\n",
      " |-- Total_Cost: double (nullable = true)\n",
      " |-- Total_Profit: double (nullable = true)\n",
      "\n"
     ]
    },
    {
     "data": {
      "text/plain": [
       "1023"
      ]
     },
     "execution_count": 4,
     "metadata": {},
     "output_type": "execute_result"
    }
   ],
   "source": [
    "df1=df.sample(False,fraction=0.1)\n",
    "df1.printSchema()\n",
    "df1.count()"
   ]
  },
  {
   "cell_type": "code",
   "execution_count": 5,
   "id": "f1361666",
   "metadata": {
    "scrolled": true
   },
   "outputs": [
    {
     "name": "stdout",
     "output_type": "stream",
     "text": [
      "+--------------------+\n",
      "|              Region|\n",
      "+--------------------+\n",
      "|  Sub-Saharan Africa|\n",
      "|              Europe|\n",
      "|Middle East and N...|\n",
      "|  Sub-Saharan Africa|\n",
      "|              Europe|\n",
      "|  Sub-Saharan Africa|\n",
      "|                Asia|\n",
      "|                Asia|\n",
      "|  Sub-Saharan Africa|\n",
      "|Central America a...|\n",
      "|  Sub-Saharan Africa|\n",
      "|              Europe|\n",
      "|              Europe|\n",
      "|                Asia|\n",
      "|Middle East and N...|\n",
      "|Australia and Oce...|\n",
      "|Central America a...|\n",
      "|              Europe|\n",
      "|Middle East and N...|\n",
      "|              Europe|\n",
      "+--------------------+\n",
      "only showing top 20 rows\n",
      "\n"
     ]
    }
   ],
   "source": [
    "df['Region',].show()"
   ]
  },
  {
   "cell_type": "code",
   "execution_count": 6,
   "id": "095e513c",
   "metadata": {},
   "outputs": [
    {
     "data": {
      "text/plain": [
       "['Region',\n",
       " 'Country',\n",
       " 'Item_Type',\n",
       " 'Sales_Channel',\n",
       " 'Order_Priority',\n",
       " 'Order_Date',\n",
       " 'Order_ID',\n",
       " 'Ship_Date',\n",
       " 'Units_Sold',\n",
       " 'Unit_Price',\n",
       " 'Unit_Cost',\n",
       " 'Total_Revenue',\n",
       " 'Total_Cost',\n",
       " 'Total_Profit']"
      ]
     },
     "execution_count": 6,
     "metadata": {},
     "output_type": "execute_result"
    }
   ],
   "source": [
    "df.columns"
   ]
  },
  {
   "cell_type": "code",
   "execution_count": 7,
   "id": "21be3e2e",
   "metadata": {
    "scrolled": true
   },
   "outputs": [
    {
     "name": "stdout",
     "output_type": "stream",
     "text": [
      "+--------------------+--------------------+\n",
      "|              Region|             Country|\n",
      "+--------------------+--------------------+\n",
      "|  Sub-Saharan Africa|                Chad|\n",
      "|              Europe|              Latvia|\n",
      "|Middle East and N...|            Pakistan|\n",
      "|  Sub-Saharan Africa|Democratic Republ...|\n",
      "|              Europe|      Czech Republic|\n",
      "+--------------------+--------------------+\n",
      "only showing top 5 rows\n",
      "\n"
     ]
    }
   ],
   "source": [
    "df['Region','Country'].show(5)"
   ]
  },
  {
   "cell_type": "code",
   "execution_count": 8,
   "id": "70107a06",
   "metadata": {},
   "outputs": [
    {
     "name": "stdout",
     "output_type": "stream",
     "text": [
      "+---------------+\n",
      "|      Item_Type|\n",
      "+---------------+\n",
      "|      Baby Food|\n",
      "|         Cereal|\n",
      "|           Meat|\n",
      "|      Household|\n",
      "|     Vegetables|\n",
      "|      Beverages|\n",
      "|Office Supplies|\n",
      "|      Cosmetics|\n",
      "|  Personal Care|\n",
      "|         Fruits|\n",
      "|         Snacks|\n",
      "|        Clothes|\n",
      "+---------------+\n",
      "\n"
     ]
    }
   ],
   "source": [
    "df.select('Item_Type').distinct().show()"
   ]
  },
  {
   "cell_type": "code",
   "execution_count": 9,
   "id": "875fdf9b",
   "metadata": {},
   "outputs": [
    {
     "data": {
      "text/plain": [
       "DataFrame[Name: string, Designation: string, Exper: int]"
      ]
     },
     "execution_count": 9,
     "metadata": {},
     "output_type": "execute_result"
    }
   ],
   "source": [
    "df1a=spark.read.csv('test1.csv',header=True,inferSchema=True)\n",
    "df1a"
   ]
  },
  {
   "cell_type": "code",
   "execution_count": 10,
   "id": "3d0a9df8",
   "metadata": {},
   "outputs": [],
   "source": [
    "import pyarrow.csv as pv\n",
    "import pyarrow.parquet as pq"
   ]
  },
  {
   "cell_type": "code",
   "execution_count": 11,
   "id": "76cded8a",
   "metadata": {},
   "outputs": [],
   "source": [
    "df2=pv.read_csv('test1.csv')\n",
    "pq.write_table(df2,\"file.parquet\")\n",
    "#pq.write.save(df2,\"filed.parquet\")"
   ]
  },
  {
   "cell_type": "code",
   "execution_count": 12,
   "id": "a8b4224a",
   "metadata": {},
   "outputs": [],
   "source": [
    "#!pip install pyarrow"
   ]
  },
  {
   "cell_type": "code",
   "execution_count": 13,
   "id": "f9e64228",
   "metadata": {},
   "outputs": [],
   "source": [
    "df4=spark.read.parquet('file.parquet')"
   ]
  },
  {
   "cell_type": "code",
   "execution_count": 14,
   "id": "a7a1ad66",
   "metadata": {},
   "outputs": [
    {
     "name": "stdout",
     "output_type": "stream",
     "text": [
      "+-------+\n",
      "|   Name|\n",
      "+-------+\n",
      "|  Manoj|\n",
      "|Santosh|\n",
      "| Golari|\n",
      "|    Som|\n",
      "| Veera |\n",
      "|sahithi|\n",
      "+-------+\n",
      "\n"
     ]
    }
   ],
   "source": [
    "df4['Name',].show()"
   ]
  },
  {
   "cell_type": "code",
   "execution_count": 15,
   "id": "ca860bd5",
   "metadata": {},
   "outputs": [],
   "source": [
    "df5=df4.toPandas()\n",
    "df5.to_parquet('filefrompandas.parquet')"
   ]
  },
  {
   "cell_type": "code",
   "execution_count": 16,
   "id": "28c54413",
   "metadata": {},
   "outputs": [
    {
     "data": {
      "text/html": [
       "<div>\n",
       "<style scoped>\n",
       "    .dataframe tbody tr th:only-of-type {\n",
       "        vertical-align: middle;\n",
       "    }\n",
       "\n",
       "    .dataframe tbody tr th {\n",
       "        vertical-align: top;\n",
       "    }\n",
       "\n",
       "    .dataframe thead th {\n",
       "        text-align: right;\n",
       "    }\n",
       "</style>\n",
       "<table border=\"1\" class=\"dataframe\">\n",
       "  <thead>\n",
       "    <tr style=\"text-align: right;\">\n",
       "      <th></th>\n",
       "      <th>Name</th>\n",
       "      <th>Designation</th>\n",
       "      <th>Exper</th>\n",
       "    </tr>\n",
       "  </thead>\n",
       "  <tbody>\n",
       "    <tr>\n",
       "      <th>0</th>\n",
       "      <td>Manoj</td>\n",
       "      <td>SSE</td>\n",
       "      <td>5</td>\n",
       "    </tr>\n",
       "    <tr>\n",
       "      <th>1</th>\n",
       "      <td>Santosh</td>\n",
       "      <td>SSE</td>\n",
       "      <td>6</td>\n",
       "    </tr>\n",
       "    <tr>\n",
       "      <th>2</th>\n",
       "      <td>Golari</td>\n",
       "      <td>SSE Retired</td>\n",
       "      <td>7</td>\n",
       "    </tr>\n",
       "    <tr>\n",
       "      <th>3</th>\n",
       "      <td>Som</td>\n",
       "      <td>SSE</td>\n",
       "      <td>6</td>\n",
       "    </tr>\n",
       "    <tr>\n",
       "      <th>4</th>\n",
       "      <td>Veera</td>\n",
       "      <td>SE</td>\n",
       "      <td>4</td>\n",
       "    </tr>\n",
       "    <tr>\n",
       "      <th>5</th>\n",
       "      <td>sahithi</td>\n",
       "      <td>SSE</td>\n",
       "      <td>6</td>\n",
       "    </tr>\n",
       "  </tbody>\n",
       "</table>\n",
       "</div>"
      ],
      "text/plain": [
       "      Name  Designation  Exper\n",
       "0    Manoj          SSE      5\n",
       "1  Santosh          SSE      6\n",
       "2   Golari  SSE Retired      7\n",
       "3      Som          SSE      6\n",
       "4   Veera            SE      4\n",
       "5  sahithi          SSE      6"
      ]
     },
     "execution_count": 16,
     "metadata": {},
     "output_type": "execute_result"
    }
   ],
   "source": [
    "df5"
   ]
  },
  {
   "cell_type": "markdown",
   "id": "7c5cc919",
   "metadata": {
    "scrolled": true
   },
   "source": [
    "df1a.write.mode('overwrite').parquet('sparkfile.parquet')"
   ]
  },
  {
   "cell_type": "markdown",
   "id": "c687e75d",
   "metadata": {},
   "source": [
    "df1a.write.parquet('one.parquet')"
   ]
  },
  {
   "cell_type": "code",
   "execution_count": null,
   "id": "d37c7465",
   "metadata": {},
   "outputs": [],
   "source": [
    "with open()"
   ]
  },
  {
   "cell_type": "code",
   "execution_count": null,
   "id": "a0204ec7",
   "metadata": {},
   "outputs": [],
   "source": []
  },
  {
   "cell_type": "code",
   "execution_count": null,
   "id": "d3d900b4",
   "metadata": {},
   "outputs": [],
   "source": []
  },
  {
   "cell_type": "code",
   "execution_count": 17,
   "id": "d536c7c7",
   "metadata": {},
   "outputs": [
    {
     "data": {
      "text/plain": [
       "DataFrame[value: string]"
      ]
     },
     "execution_count": 17,
     "metadata": {},
     "output_type": "execute_result"
    }
   ],
   "source": [
    "txt_file=spark.read.option('header','true').text('test1.txt')\n",
    "txt_file"
   ]
  },
  {
   "cell_type": "code",
   "execution_count": 18,
   "id": "4b4be051",
   "metadata": {},
   "outputs": [
    {
     "name": "stdout",
     "output_type": "stream",
     "text": [
      "+------------------+\n",
      "|             value|\n",
      "+------------------+\n",
      "|         Manoj\tSSE|\n",
      "|       Santosh\tSSE|\n",
      "|Golari\tSSE Retired|\n",
      "|           Som\tSSE|\n",
      "|         Veera \tSE|\n",
      "|       sahithi\tSSE|\n",
      "+------------------+\n",
      "\n"
     ]
    }
   ],
   "source": [
    "txt_file.show()"
   ]
  },
  {
   "cell_type": "code",
   "execution_count": null,
   "id": "b0483be6",
   "metadata": {},
   "outputs": [],
   "source": []
  },
  {
   "cell_type": "code",
   "execution_count": 19,
   "id": "192cf1ef",
   "metadata": {},
   "outputs": [],
   "source": [
    "#spark.stop()"
   ]
  },
  {
   "cell_type": "code",
   "execution_count": null,
   "id": "4d291896",
   "metadata": {},
   "outputs": [],
   "source": []
  }
 ],
 "metadata": {
  "kernelspec": {
   "display_name": "Python 3",
   "language": "python",
   "name": "python3"
  },
  "language_info": {
   "codemirror_mode": {
    "name": "ipython",
    "version": 3
   },
   "file_extension": ".py",
   "mimetype": "text/x-python",
   "name": "python",
   "nbconvert_exporter": "python",
   "pygments_lexer": "ipython3",
   "version": "3.8.8"
  }
 },
 "nbformat": 4,
 "nbformat_minor": 5
}
