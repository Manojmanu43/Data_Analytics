{
 "cells": [
  {
   "cell_type": "code",
   "execution_count": 1,
   "id": "43d8ca21",
   "metadata": {},
   "outputs": [],
   "source": [
    "import findspark;\n",
    "import time;\n",
    "from pyspark import SparkContext\n",
    "findspark.find()\n",
    "findspark.init()\n",
    "try:\n",
    "    sc=SparkContext(\"local\",\"spark_example\")\n",
    "except:\n",
    "    sc.stop()\n",
    "    sc=SparkContext(\"local\",\"spark_example\")\n",
    "def st():\n",
    "    return time.time()\n",
    "def exec(arg):\n",
    "    print(\"Time for exectuion:\" , time.time()-arg)\n",
    "import random\n",
    "def func():\n",
    "    num=10000\n",
    "    list=[]\n",
    "    list1=[]\n",
    "    while num>0:\n",
    "        list.append(round(random.random(),2))\n",
    "        list1.append(random.randint(1,1000))\n",
    "        num-=1\n",
    "    return list,list1\n",
    "a,b=func()"
   ]
  },
  {
   "cell_type": "code",
   "execution_count": 2,
   "id": "9dfe1914",
   "metadata": {},
   "outputs": [
    {
     "data": {
      "text/plain": [
       "([42, 65, 87, 22, 7], [429, 485, 209, 314, 485])"
      ]
     },
     "execution_count": 2,
     "metadata": {},
     "output_type": "execute_result"
    }
   ],
   "source": [
    "dic={}\n",
    "keys=[x for x in random.sample(range(1,100),5)]\n",
    "values=[x for x in random.sample(range(101,500),5)]\n",
    "values[4]=values[1]\n",
    "keys,values"
   ]
  },
  {
   "cell_type": "code",
   "execution_count": 3,
   "id": "7d2ebf66",
   "metadata": {},
   "outputs": [],
   "source": [
    "for i in range(len(keys)):\n",
    "    dic[keys[i]]=values[i]\n",
    "dic\n",
    "dic1=[('a', 1), ('b', 2), ('1', 3), ('d', 4), ('2', 5) ,('3',1),('1',25)]"
   ]
  },
  {
   "cell_type": "code",
   "execution_count": 4,
   "id": "4a172fc4",
   "metadata": {},
   "outputs": [],
   "source": [
    "rdd=sc.parallelize(dic1,3)"
   ]
  },
  {
   "cell_type": "code",
   "execution_count": 5,
   "id": "238b8dc8",
   "metadata": {},
   "outputs": [
    {
     "data": {
      "text/plain": [
       "[[('a', 1), ('b', 2)], [('1', 3), ('d', 4)], [('2', 5), ('3', 1), ('1', 25)]]"
      ]
     },
     "execution_count": 5,
     "metadata": {},
     "output_type": "execute_result"
    }
   ],
   "source": [
    "rdd.collect()\n",
    "rdd.glom().collect()"
   ]
  },
  {
   "cell_type": "code",
   "execution_count": 6,
   "id": "e7d18fe4",
   "metadata": {},
   "outputs": [
    {
     "data": {
      "text/plain": [
       "(defaultdict(int,\n",
       "             {('a', 1): 1,\n",
       "              ('b', 2): 1,\n",
       "              ('1', 3): 1,\n",
       "              ('d', 4): 1,\n",
       "              ('2', 5): 1,\n",
       "              ('3', 1): 1,\n",
       "              ('1', 25): 1}),\n",
       " defaultdict(int, {'a': 1, 'b': 1, '1': 2, 'd': 1, '2': 1, '3': 1}))"
      ]
     },
     "execution_count": 6,
     "metadata": {},
     "output_type": "execute_result"
    }
   ],
   "source": [
    "rdd.countByValue(), rdd.countByKey()"
   ]
  },
  {
   "cell_type": "code",
   "execution_count": 7,
   "id": "10c28b18",
   "metadata": {},
   "outputs": [
    {
     "data": {
      "text/plain": [
       "[('1', 3), ('1', 25), ('2', 5), ('3', 1), ('a', 1), ('b', 2), ('d', 4)]"
      ]
     },
     "execution_count": 7,
     "metadata": {},
     "output_type": "execute_result"
    }
   ],
   "source": [
    "rdd.sortByKey().collect()"
   ]
  },
  {
   "cell_type": "code",
   "execution_count": 8,
   "id": "d3a1a3b8",
   "metadata": {},
   "outputs": [
    {
     "data": {
      "text/plain": [
       "[3, 25]"
      ]
     },
     "execution_count": 8,
     "metadata": {},
     "output_type": "execute_result"
    }
   ],
   "source": [
    "rdd.lookup('1')"
   ]
  },
  {
   "cell_type": "code",
   "execution_count": 9,
   "id": "cdfc0b7e",
   "metadata": {},
   "outputs": [
    {
     "data": {
      "text/plain": [
       "[('a', 1), ('b', 4), ('1', 9), ('d', 16), ('2', 25), ('3', 1), ('1', 625)]"
      ]
     },
     "execution_count": 9,
     "metadata": {},
     "output_type": "execute_result"
    }
   ],
   "source": [
    "rdd.mapValues(lambda x: x**2).collect()"
   ]
  },
  {
   "cell_type": "code",
   "execution_count": 10,
   "id": "6696bf7b",
   "metadata": {},
   "outputs": [
    {
     "name": "stdout",
     "output_type": "stream",
     "text": [
      "[('d', 4), ('2', 5), ('b', 2), ('1', 28), ('3', 1), ('a', 1)]\n",
      "Time for exectuion: 2.6788790225982666\n"
     ]
    }
   ],
   "source": [
    "a=st()\n",
    "print(rdd.reduceByKey(lambda x,y:x+y).collect())\n",
    "exec(a)"
   ]
  },
  {
   "cell_type": "code",
   "execution_count": 11,
   "id": "0af44cb3",
   "metadata": {},
   "outputs": [],
   "source": [
    "rdd1=sc.parallelize([(1,2),(3,1),(3,2)])"
   ]
  },
  {
   "cell_type": "code",
   "execution_count": 12,
   "id": "3d435a82",
   "metadata": {},
   "outputs": [
    {
     "data": {
      "text/plain": [
       "[(1, 2), (3, 1), (3, 2)]"
      ]
     },
     "execution_count": 12,
     "metadata": {},
     "output_type": "execute_result"
    }
   ],
   "source": [
    "rdd1.collect()"
   ]
  },
  {
   "cell_type": "code",
   "execution_count": 13,
   "id": "96405136",
   "metadata": {},
   "outputs": [
    {
     "data": {
      "text/plain": [
       "[[(1, 2), (3, 1), (3, 2)]]"
      ]
     },
     "execution_count": 13,
     "metadata": {},
     "output_type": "execute_result"
    }
   ],
   "source": [
    "rdd1.glom().collect()"
   ]
  },
  {
   "cell_type": "code",
   "execution_count": 14,
   "id": "e018f1c1",
   "metadata": {},
   "outputs": [
    {
     "data": {
      "text/plain": [
       "[(1, 2), (3, 3)]"
      ]
     },
     "execution_count": 14,
     "metadata": {},
     "output_type": "execute_result"
    }
   ],
   "source": [
    "rdd1.reduceByKey(lambda x,y:x+y).collect()"
   ]
  },
  {
   "cell_type": "code",
   "execution_count": 15,
   "id": "15ea7116",
   "metadata": {},
   "outputs": [],
   "source": [
    "#data=rdd1.groupByKey(lambda x,y: x+y).collect()"
   ]
  },
  {
   "cell_type": "code",
   "execution_count": 16,
   "id": "1c273335",
   "metadata": {},
   "outputs": [
    {
     "data": {
      "text/plain": [
       "[(1, 2), (3, 1), (3, 2)]"
      ]
     },
     "execution_count": 16,
     "metadata": {},
     "output_type": "execute_result"
    }
   ],
   "source": [
    "type(rdd1)\n",
    "rdd1.collect()"
   ]
  },
  {
   "cell_type": "code",
   "execution_count": null,
   "id": "e0415906",
   "metadata": {},
   "outputs": [],
   "source": []
  }
 ],
 "metadata": {
  "kernelspec": {
   "display_name": "Python 3",
   "language": "python",
   "name": "python3"
  },
  "language_info": {
   "codemirror_mode": {
    "name": "ipython",
    "version": 3
   },
   "file_extension": ".py",
   "mimetype": "text/x-python",
   "name": "python",
   "nbconvert_exporter": "python",
   "pygments_lexer": "ipython3",
   "version": "3.8.8"
  }
 },
 "nbformat": 4,
 "nbformat_minor": 5
}
