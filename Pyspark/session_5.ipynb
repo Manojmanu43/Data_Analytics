{
 "cells": [
  {
   "cell_type": "code",
   "execution_count": 1,
   "id": "2cbcf59c",
   "metadata": {},
   "outputs": [],
   "source": [
    "import findspark;\n",
    "import time;\n",
    "from pyspark import SparkContext\n",
    "findspark.find()\n",
    "findspark.init()\n",
    "try:\n",
    "    sc=SparkContext(\"local\",\"spark_example\")\n",
    "except:\n",
    "    sc.stop()\n",
    "    sc=SparkContext(\"local\",\"spark_example\")\n",
    "def st():\n",
    "    return time.time()\n",
    "def exec(arg):\n",
    "    print(\"Time for exectuion:\" , time.time()-arg)\n",
    "sc.stop()"
   ]
  },
  {
   "cell_type": "code",
   "execution_count": 2,
   "id": "a9bb7900",
   "metadata": {},
   "outputs": [
    {
     "name": "stdout",
     "output_type": "stream",
     "text": [
      "root\n",
      " |-- Region: string (nullable = true)\n",
      " |-- Country: string (nullable = true)\n",
      " |-- Item Type: string (nullable = true)\n",
      " |-- Sales Channel: string (nullable = true)\n",
      " |-- Order Priority: string (nullable = true)\n",
      " |-- Order Date: string (nullable = true)\n",
      " |-- Order ID: integer (nullable = true)\n",
      " |-- Ship Date: string (nullable = true)\n",
      " |-- Units Sold: integer (nullable = true)\n",
      " |-- Unit Price: double (nullable = true)\n",
      " |-- Unit Cost: double (nullable = true)\n",
      " |-- Total Revenue: double (nullable = true)\n",
      " |-- Total Cost: double (nullable = true)\n",
      " |-- Total Profit: double (nullable = true)\n",
      "\n"
     ]
    },
    {
     "data": {
      "text/plain": [
       "998"
      ]
     },
     "execution_count": 2,
     "metadata": {},
     "output_type": "execute_result"
    }
   ],
   "source": [
    "from pyspark.sql import SparkSession\n",
    "spark=SparkSession.builder.appName('Practise').getOrCreate()\n",
    "df=spark.read.csv('10000 Sales Records.csv',header=True,inferSchema=True)\n",
    "df.printSchema()\n",
    "df1=df.sample(False,0.1)\n",
    "df1.count()"
   ]
  },
  {
   "cell_type": "code",
   "execution_count": 3,
   "id": "3250096a",
   "metadata": {},
   "outputs": [
    {
     "name": "stdout",
     "output_type": "stream",
     "text": [
      "+--------------------+--------------------+\n",
      "|              Region|             Country|\n",
      "+--------------------+--------------------+\n",
      "|  Sub-Saharan Africa|                Chad|\n",
      "|              Europe|              Latvia|\n",
      "|Middle East and N...|            Pakistan|\n",
      "|  Sub-Saharan Africa|Democratic Republ...|\n",
      "|              Europe|      Czech Republic|\n",
      "|  Sub-Saharan Africa|        South Africa|\n",
      "|                Asia|                Laos|\n",
      "|                Asia|               China|\n",
      "|  Sub-Saharan Africa|             Eritrea|\n",
      "|Central America a...|               Haiti|\n",
      "|  Sub-Saharan Africa|              Zambia|\n",
      "|              Europe|Bosnia and Herzeg...|\n",
      "|              Europe|             Germany|\n",
      "|                Asia|               India|\n",
      "|Middle East and N...|             Algeria|\n",
      "|Australia and Oce...|               Palau|\n",
      "|Central America a...|                Cuba|\n",
      "|              Europe|        Vatican City|\n",
      "|Middle East and N...|             Lebanon|\n",
      "|              Europe|           Lithuania|\n",
      "+--------------------+--------------------+\n",
      "only showing top 20 rows\n",
      "\n"
     ]
    }
   ],
   "source": [
    "df['Region','Country'].show()"
   ]
  },
  {
   "cell_type": "code",
   "execution_count": 4,
   "id": "dd737f5b",
   "metadata": {},
   "outputs": [
    {
     "name": "stdout",
     "output_type": "stream",
     "text": [
      "+-------+------------------+-----------+\n",
      "|summary|            Region|    Country|\n",
      "+-------+------------------+-----------+\n",
      "|  count|             10000|      10000|\n",
      "|   mean|              null|       null|\n",
      "| stddev|              null|       null|\n",
      "|    min|              Asia|Afghanistan|\n",
      "|    max|Sub-Saharan Africa|   Zimbabwe|\n",
      "+-------+------------------+-----------+\n",
      "\n"
     ]
    }
   ],
   "source": [
    "df['Region','Country'].describe().show()"
   ]
  },
  {
   "cell_type": "code",
   "execution_count": 5,
   "id": "6ec1600a",
   "metadata": {},
   "outputs": [
    {
     "data": {
      "text/plain": [
       "['Region',\n",
       " 'Country',\n",
       " 'Item Type',\n",
       " 'Sales Channel',\n",
       " 'Order Priority',\n",
       " 'Order Date',\n",
       " 'Order ID',\n",
       " 'Ship Date',\n",
       " 'Units Sold',\n",
       " 'Unit Price',\n",
       " 'Unit Cost',\n",
       " 'Total Revenue',\n",
       " 'Total Cost',\n",
       " 'Total Profit']"
      ]
     },
     "execution_count": 5,
     "metadata": {},
     "output_type": "execute_result"
    }
   ],
   "source": [
    "df.columns"
   ]
  },
  {
   "cell_type": "code",
   "execution_count": 6,
   "id": "692daf0f",
   "metadata": {},
   "outputs": [
    {
     "data": {
      "text/plain": [
       "pyspark.sql.dataframe.DataFrame"
      ]
     },
     "execution_count": 6,
     "metadata": {},
     "output_type": "execute_result"
    }
   ],
   "source": [
    "type(df)"
   ]
  },
  {
   "cell_type": "code",
   "execution_count": 7,
   "id": "ae0410df",
   "metadata": {},
   "outputs": [
    {
     "data": {
      "text/plain": [
       "14"
      ]
     },
     "execution_count": 7,
     "metadata": {},
     "output_type": "execute_result"
    }
   ],
   "source": [
    "len(df.columns)"
   ]
  },
  {
   "cell_type": "code",
   "execution_count": 8,
   "id": "28334aab",
   "metadata": {},
   "outputs": [
    {
     "name": "stdout",
     "output_type": "stream",
     "text": [
      "Row(Region='Sub-Saharan Africa', Country='Chad', Item Type='Office Supplies', Sales Channel='Online', Order Priority='L', Order Date='1/27/2011', Order ID=292494523, Ship Date='02-12-2011', Units Sold=4484, Unit Price=651.21, Unit Cost=524.96, Total Revenue=2920025.64, Total Cost=2353920.64, Total Profit=566105.0)\n",
      "Row(Region='Europe', Country='Latvia', Item Type='Beverages', Sales Channel='Online', Order Priority='C', Order Date='12/28/2015', Order ID=361825549, Ship Date='1/23/2016', Units Sold=None, Unit Price=47.45, Unit Cost=31.79, Total Revenue=51008.75, Total Cost=34174.25, Total Profit=16834.5)\n",
      "Row(Region='Middle East and North Africa', Country='Pakistan', Item Type='Vegetables', Sales Channel='Offline', Order Priority='C', Order Date='1/13/2011', Order ID=141515767, Ship Date='02-01-2011', Units Sold=6515, Unit Price=154.06, Unit Cost=90.93, Total Revenue=1003700.9, Total Cost=592408.95, Total Profit=411291.95)\n"
     ]
    }
   ],
   "source": [
    "for x in df.take(3):\n",
    "    print(x)"
   ]
  },
  {
   "cell_type": "code",
   "execution_count": 9,
   "id": "6515ce90",
   "metadata": {},
   "outputs": [
    {
     "data": {
      "text/plain": [
       "[Row(Region='Sub-Saharan Africa', Country='Chad', Item Type='Office Supplies', Sales Channel='Online', Order Priority='L', Order Date='1/27/2011', Order ID=292494523, Ship Date='02-12-2011', Units Sold=4484, Unit Price=651.21, Unit Cost=524.96, Total Revenue=2920025.64, Total Cost=2353920.64, Total Profit=566105.0),\n",
       " Row(Region='Europe', Country='Latvia', Item Type='Beverages', Sales Channel='Online', Order Priority='C', Order Date='12/28/2015', Order ID=361825549, Ship Date='1/23/2016', Units Sold=None, Unit Price=47.45, Unit Cost=31.79, Total Revenue=51008.75, Total Cost=34174.25, Total Profit=16834.5),\n",
       " Row(Region='Middle East and North Africa', Country='Pakistan', Item Type='Vegetables', Sales Channel='Offline', Order Priority='C', Order Date='1/13/2011', Order ID=141515767, Ship Date='02-01-2011', Units Sold=6515, Unit Price=154.06, Unit Cost=90.93, Total Revenue=1003700.9, Total Cost=592408.95, Total Profit=411291.95)]"
      ]
     },
     "execution_count": 9,
     "metadata": {},
     "output_type": "execute_result"
    }
   ],
   "source": [
    "df.head(3)"
   ]
  },
  {
   "cell_type": "code",
   "execution_count": 10,
   "id": "5c5b8cb5",
   "metadata": {},
   "outputs": [
    {
     "name": "stdout",
     "output_type": "stream",
     "text": [
      "+--------------------+\n",
      "|              Region|\n",
      "+--------------------+\n",
      "|  Sub-Saharan Africa|\n",
      "|              Europe|\n",
      "|Middle East and N...|\n",
      "|  Sub-Saharan Africa|\n",
      "|              Europe|\n",
      "|  Sub-Saharan Africa|\n",
      "|                Asia|\n",
      "|                Asia|\n",
      "|  Sub-Saharan Africa|\n",
      "|Central America a...|\n",
      "|  Sub-Saharan Africa|\n",
      "|              Europe|\n",
      "|              Europe|\n",
      "|                Asia|\n",
      "|Middle East and N...|\n",
      "|Australia and Oce...|\n",
      "|Central America a...|\n",
      "|              Europe|\n",
      "|Middle East and N...|\n",
      "|              Europe|\n",
      "+--------------------+\n",
      "only showing top 20 rows\n",
      "\n"
     ]
    }
   ],
   "source": [
    "df.select(\"Region\").show()"
   ]
  },
  {
   "cell_type": "code",
   "execution_count": 11,
   "id": "bb2927d4",
   "metadata": {},
   "outputs": [
    {
     "data": {
      "text/plain": [
       "105"
      ]
     },
     "execution_count": 11,
     "metadata": {},
     "output_type": "execute_result"
    }
   ],
   "source": [
    "df.filter(df['Units Sold'] < 100).count()"
   ]
  },
  {
   "cell_type": "markdown",
   "id": "589574e7",
   "metadata": {},
   "source": [
    "df.filter(df['Units Sold'] < 100 & df['Region']=='Asia').count()"
   ]
  },
  {
   "cell_type": "code",
   "execution_count": 13,
   "id": "b4dfbdfb",
   "metadata": {},
   "outputs": [
    {
     "data": {
      "text/plain": [
       "1469"
      ]
     },
     "execution_count": 13,
     "metadata": {},
     "output_type": "execute_result"
    }
   ],
   "source": [
    "df.filter(df['Region']=='Asia').count()"
   ]
  },
  {
   "cell_type": "code",
   "execution_count": 14,
   "id": "66872b95",
   "metadata": {},
   "outputs": [
    {
     "data": {
      "text/plain": [
       "(['Region',\n",
       "  'Country',\n",
       "  'Item Type',\n",
       "  'Sales Channel',\n",
       "  'Order Priority',\n",
       "  'Order Date',\n",
       "  'Order ID',\n",
       "  'Ship Date',\n",
       "  'Units Sold',\n",
       "  'Unit Price',\n",
       "  'Unit Cost',\n",
       "  'Total Revenue',\n",
       "  'Total Cost',\n",
       "  'Total Profit'],\n",
       " 14)"
      ]
     },
     "execution_count": 14,
     "metadata": {},
     "output_type": "execute_result"
    }
   ],
   "source": [
    "df.columns, len(df.columns)"
   ]
  },
  {
   "cell_type": "code",
   "execution_count": 15,
   "id": "4e7f27c7",
   "metadata": {},
   "outputs": [
    {
     "name": "stdout",
     "output_type": "stream",
     "text": [
      "+--------------------+\n",
      "|              Region|\n",
      "+--------------------+\n",
      "|Middle East and N...|\n",
      "|Australia and Oce...|\n",
      "|              Europe|\n",
      "|  Sub-Saharan Africa|\n",
      "|Central America a...|\n",
      "|       North America|\n",
      "|                Asia|\n",
      "+--------------------+\n",
      "\n"
     ]
    },
    {
     "data": {
      "text/plain": [
       "(None, 7)"
      ]
     },
     "execution_count": 15,
     "metadata": {},
     "output_type": "execute_result"
    }
   ],
   "source": [
    "df.select(\"Region\").distinct().show(), df.select(\"Region\").distinct().count()"
   ]
  },
  {
   "cell_type": "code",
   "execution_count": 16,
   "id": "52576065",
   "metadata": {},
   "outputs": [
    {
     "name": "stdout",
     "output_type": "stream",
     "text": [
      "+-------------+\n",
      "|Sales Channel|\n",
      "+-------------+\n",
      "|       Online|\n",
      "|      Offline|\n",
      "+-------------+\n",
      "\n"
     ]
    },
    {
     "data": {
      "text/plain": [
       "(None, 10000)"
      ]
     },
     "execution_count": 16,
     "metadata": {},
     "output_type": "execute_result"
    }
   ],
   "source": [
    "df.select(\"Sales Channel\").distinct().show(), df.count()"
   ]
  },
  {
   "cell_type": "code",
   "execution_count": 17,
   "id": "93c3b340",
   "metadata": {},
   "outputs": [
    {
     "name": "stdout",
     "output_type": "stream",
     "text": [
      "+--------------------+\n",
      "|              Region|\n",
      "+--------------------+\n",
      "|Middle East and N...|\n",
      "|Australia and Oce...|\n",
      "|              Europe|\n",
      "|  Sub-Saharan Africa|\n",
      "|Central America a...|\n",
      "|       North America|\n",
      "|                Asia|\n",
      "+--------------------+\n",
      "\n"
     ]
    },
    {
     "data": {
      "text/plain": [
       "(None, 7)"
      ]
     },
     "execution_count": 17,
     "metadata": {},
     "output_type": "execute_result"
    }
   ],
   "source": [
    "op1=df.select(\"Region\").filter(df[\"Sales Channel\"]==\"Offline\").distinct()\n",
    "op1.show(), op1.count()"
   ]
  },
  {
   "cell_type": "code",
   "execution_count": 18,
   "id": "d5a2cf85",
   "metadata": {},
   "outputs": [
    {
     "data": {
      "text/plain": [
       "pyspark.sql.dataframe.DataFrame"
      ]
     },
     "execution_count": 18,
     "metadata": {},
     "output_type": "execute_result"
    }
   ],
   "source": [
    "op2=df.crosstab('Region','Sales Channel')\n",
    "type(op2)"
   ]
  },
  {
   "cell_type": "code",
   "execution_count": 19,
   "id": "344b29e0",
   "metadata": {},
   "outputs": [
    {
     "name": "stdout",
     "output_type": "stream",
     "text": [
      "+--------------------+-------+------+\n",
      "|Region_Sales Channel|Offline|Online|\n",
      "+--------------------+-------+------+\n",
      "|       North America|    109|   106|\n",
      "|Australia and Oce...|    373|   424|\n",
      "|  Sub-Saharan Africa|   1289|  1314|\n",
      "|              Europe|   1318|  1315|\n",
      "|Central America a...|    517|   502|\n",
      "|Middle East and N...|    625|   639|\n",
      "|                Asia|    708|   761|\n",
      "+--------------------+-------+------+\n",
      "\n"
     ]
    }
   ],
   "source": [
    "op2.show()"
   ]
  },
  {
   "cell_type": "code",
   "execution_count": 20,
   "id": "f039c4bd",
   "metadata": {},
   "outputs": [
    {
     "data": {
      "text/plain": [
       "[Row(Region_Sales Channel='North America', Offline=109, Online=106),\n",
       " Row(Region_Sales Channel='Australia and Oceania', Offline=373, Online=424)]"
      ]
     },
     "execution_count": 20,
     "metadata": {},
     "output_type": "execute_result"
    }
   ],
   "source": [
    "op2.head(2)"
   ]
  },
  {
   "cell_type": "code",
   "execution_count": 21,
   "id": "e5859600",
   "metadata": {},
   "outputs": [
    {
     "data": {
      "text/plain": [
       "(10000, 9999)"
      ]
     },
     "execution_count": 21,
     "metadata": {},
     "output_type": "execute_result"
    }
   ],
   "source": [
    "df.count(), df.dropna().count()"
   ]
  },
  {
   "cell_type": "code",
   "execution_count": 22,
   "id": "2a1f09e9",
   "metadata": {},
   "outputs": [
    {
     "data": {
      "text/plain": [
       "10000"
      ]
     },
     "execution_count": 22,
     "metadata": {},
     "output_type": "execute_result"
    }
   ],
   "source": [
    "df.count()"
   ]
  },
  {
   "cell_type": "code",
   "execution_count": 23,
   "id": "f116e825",
   "metadata": {},
   "outputs": [],
   "source": [
    "op3=df.dropna()"
   ]
  },
  {
   "cell_type": "code",
   "execution_count": 24,
   "id": "0eb396f1",
   "metadata": {},
   "outputs": [
    {
     "data": {
      "text/plain": [
       "9999"
      ]
     },
     "execution_count": 24,
     "metadata": {},
     "output_type": "execute_result"
    }
   ],
   "source": [
    "op3.count()"
   ]
  },
  {
   "cell_type": "code",
   "execution_count": null,
   "id": "c51c2109",
   "metadata": {},
   "outputs": [],
   "source": []
  }
 ],
 "metadata": {
  "kernelspec": {
   "display_name": "Python 3",
   "language": "python",
   "name": "python3"
  },
  "language_info": {
   "codemirror_mode": {
    "name": "ipython",
    "version": 3
   },
   "file_extension": ".py",
   "mimetype": "text/x-python",
   "name": "python",
   "nbconvert_exporter": "python",
   "pygments_lexer": "ipython3",
   "version": "3.8.8"
  }
 },
 "nbformat": 4,
 "nbformat_minor": 5
}
