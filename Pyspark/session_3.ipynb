{
 "cells": [
  {
   "cell_type": "code",
   "execution_count": 1,
   "id": "247e59cf",
   "metadata": {},
   "outputs": [],
   "source": [
    "import findspark;\n",
    "import time;\n",
    "from pyspark import SparkContext\n",
    "findspark.find()\n",
    "findspark.init()\n",
    "try:\n",
    "    sc=SparkContext(\"local\",\"spark_example\")\n",
    "except:\n",
    "    sc.stop()\n",
    "    sc=SparkContext(\"local\",\"spark_example\")\n",
    "def st():\n",
    "    return time.time()\n",
    "def exec(arg):\n",
    "    print(\"Time for exectuion:\" , time.time()-arg)\n",
    "import random\n",
    "def func():\n",
    "    num=10000\n",
    "    list=[]\n",
    "    list1=[]\n",
    "    while num>0:\n",
    "        list.append(round(random.random(),2))\n",
    "        list1.append(random.randint(1,1000))\n",
    "        num-=1\n",
    "    return list,list1\n",
    "a,b=func()"
   ]
  },
  {
   "cell_type": "code",
   "execution_count": 2,
   "id": "5b73ade1",
   "metadata": {},
   "outputs": [
    {
     "name": "stdout",
     "output_type": "stream",
     "text": [
      "10000\n",
      "Time for exectuion: 4.603893756866455\n"
     ]
    }
   ],
   "source": [
    "rdd=sc.parallelize(b,10)\n",
    "a=st()\n",
    "print(rdd.count())\n",
    "exec(a)"
   ]
  },
  {
   "cell_type": "code",
   "execution_count": null,
   "id": "6661073d",
   "metadata": {},
   "outputs": [],
   "source": []
  }
 ],
 "metadata": {
  "kernelspec": {
   "display_name": "Python 3",
   "language": "python",
   "name": "python3"
  },
  "language_info": {
   "codemirror_mode": {
    "name": "ipython",
    "version": 3
   },
   "file_extension": ".py",
   "mimetype": "text/x-python",
   "name": "python",
   "nbconvert_exporter": "python",
   "pygments_lexer": "ipython3",
   "version": "3.8.8"
  }
 },
 "nbformat": 4,
 "nbformat_minor": 5
}
