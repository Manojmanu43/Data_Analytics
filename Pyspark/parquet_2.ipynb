{
 "cells": [
  {
   "cell_type": "code",
   "execution_count": 1,
   "id": "53e9382a",
   "metadata": {},
   "outputs": [
    {
     "data": {
      "text/html": [
       "\n",
       "            <div>\n",
       "                <p><b>SparkSession - in-memory</b></p>\n",
       "                \n",
       "        <div>\n",
       "            <p><b>SparkContext</b></p>\n",
       "\n",
       "            <p><a href=\"http://MSI:4041\">Spark UI</a></p>\n",
       "\n",
       "            <dl>\n",
       "              <dt>Version</dt>\n",
       "                <dd><code>v3.1.2</code></dd>\n",
       "              <dt>Master</dt>\n",
       "                <dd><code>local[*]</code></dd>\n",
       "              <dt>AppName</dt>\n",
       "                <dd><code>spark_parquet_example</code></dd>\n",
       "            </dl>\n",
       "        </div>\n",
       "        \n",
       "            </div>\n",
       "        "
      ],
      "text/plain": [
       "<pyspark.sql.session.SparkSession at 0x281597ce3a0>"
      ]
     },
     "execution_count": 1,
     "metadata": {},
     "output_type": "execute_result"
    }
   ],
   "source": [
    "from pyspark.sql import SparkSession\n",
    "import findspark\n",
    "import pyarrow.csv as pv\n",
    "import pyarrow.parquet as pq\n",
    "import pandas as pd\n",
    "findspark.find()\n",
    "findspark.init()\n",
    "spark=SparkSession.builder.appName('spark_parquet_example').getOrCreate()\n",
    "spark"
   ]
  },
  {
   "cell_type": "code",
   "execution_count": 2,
   "id": "11e2a2da",
   "metadata": {},
   "outputs": [],
   "source": [
    "df2=pv.read_csv(r'C:\\Users\\venka\\My Python Work\\Pyspark\\10000 Sales Records.csv')\n",
    "pq.write_table(df2,\"file.parquet\")"
   ]
  },
  {
   "cell_type": "code",
   "execution_count": 3,
   "id": "ea396cf9",
   "metadata": {},
   "outputs": [],
   "source": [
    "data=spark.read.parquet('file.parquet')"
   ]
  },
  {
   "cell_type": "markdown",
   "id": "897175a7",
   "metadata": {},
   "source": [
    "%timeit data['Region',].distinct().show()"
   ]
  },
  {
   "cell_type": "code",
   "execution_count": 4,
   "id": "b529307c",
   "metadata": {},
   "outputs": [],
   "source": [
    "df=data.toPandas()"
   ]
  },
  {
   "cell_type": "markdown",
   "id": "2fd9a084",
   "metadata": {},
   "source": [
    "df"
   ]
  },
  {
   "cell_type": "markdown",
   "id": "b48a998f",
   "metadata": {},
   "source": [
    "%timeit df['Region'].unique()"
   ]
  },
  {
   "cell_type": "code",
   "execution_count": 5,
   "id": "0f14eec1",
   "metadata": {},
   "outputs": [
    {
     "data": {
      "text/plain": [
       "array(['Sub-Saharan Africa', 'Europe', 'Middle East and North Africa',\n",
       "       'Asia', 'Central America and the Caribbean',\n",
       "       'Australia and Oceania', 'North America'], dtype=object)"
      ]
     },
     "execution_count": 5,
     "metadata": {},
     "output_type": "execute_result"
    }
   ],
   "source": [
    "df['Region'].unique()"
   ]
  },
  {
   "cell_type": "code",
   "execution_count": 6,
   "id": "bdc40ea2",
   "metadata": {},
   "outputs": [
    {
     "name": "stdout",
     "output_type": "stream",
     "text": [
      "+--------------------+\n",
      "|              Region|\n",
      "+--------------------+\n",
      "|  Sub-Saharan Africa|\n",
      "|              Europe|\n",
      "|Middle East and N...|\n",
      "|  Sub-Saharan Africa|\n",
      "|              Europe|\n",
      "|  Sub-Saharan Africa|\n",
      "|                Asia|\n",
      "|                Asia|\n",
      "|  Sub-Saharan Africa|\n",
      "|Central America a...|\n",
      "|  Sub-Saharan Africa|\n",
      "|              Europe|\n",
      "|              Europe|\n",
      "|                Asia|\n",
      "|Middle East and N...|\n",
      "|Australia and Oce...|\n",
      "|Central America a...|\n",
      "|              Europe|\n",
      "|Middle East and N...|\n",
      "|              Europe|\n",
      "+--------------------+\n",
      "only showing top 20 rows\n",
      "\n"
     ]
    }
   ],
   "source": [
    "data['Region',].show()"
   ]
  },
  {
   "cell_type": "markdown",
   "id": "d6333371",
   "metadata": {},
   "source": [
    "data.filter(['Region'=='Asia'])"
   ]
  },
  {
   "cell_type": "code",
   "execution_count": 7,
   "id": "5fce1184",
   "metadata": {},
   "outputs": [
    {
     "name": "stdout",
     "output_type": "stream",
     "text": [
      "root\n",
      " |-- Region: string (nullable = true)\n",
      " |-- Country: string (nullable = true)\n",
      " |-- Item_Type: string (nullable = true)\n",
      " |-- Sales_Channel: string (nullable = true)\n",
      " |-- Order_Priority: string (nullable = true)\n",
      " |-- Order_Date: string (nullable = true)\n",
      " |-- Order_ID: long (nullable = true)\n",
      " |-- Ship_Date: string (nullable = true)\n",
      " |-- Units_Sold: long (nullable = true)\n",
      " |-- Unit_Price: double (nullable = true)\n",
      " |-- Unit_Cost: double (nullable = true)\n",
      " |-- Total_Revenue: double (nullable = true)\n",
      " |-- Total_Cost: double (nullable = true)\n",
      " |-- Total_Profit: double (nullable = true)\n",
      "\n"
     ]
    }
   ],
   "source": [
    "data.printSchema()"
   ]
  },
  {
   "cell_type": "code",
   "execution_count": 8,
   "id": "78cca4ed",
   "metadata": {},
   "outputs": [],
   "source": [
    "data.createOrReplaceTempView(\"books_table\")"
   ]
  },
  {
   "cell_type": "code",
   "execution_count": 9,
   "id": "f08201c8",
   "metadata": {},
   "outputs": [],
   "source": [
    "def fetch(query):\n",
    "    return spark.sql(query)"
   ]
  },
  {
   "cell_type": "code",
   "execution_count": 10,
   "id": "985ca90b",
   "metadata": {},
   "outputs": [],
   "source": [
    "data_sql=spark.sql(\"select Region,count(*) from books_table group by Region \")"
   ]
  },
  {
   "cell_type": "code",
   "execution_count": 11,
   "id": "c6f62bd2",
   "metadata": {},
   "outputs": [
    {
     "name": "stdout",
     "output_type": "stream",
     "text": [
      "+--------------------+--------+\n",
      "|              Region|count(1)|\n",
      "+--------------------+--------+\n",
      "|Middle East and N...|    1264|\n",
      "|Australia and Oce...|     797|\n",
      "|              Europe|    2633|\n",
      "|  Sub-Saharan Africa|    2603|\n",
      "|Central America a...|    1019|\n",
      "|       North America|     215|\n",
      "|                Asia|    1469|\n",
      "+--------------------+--------+\n",
      "\n"
     ]
    }
   ],
   "source": [
    "data_sql.show()"
   ]
  },
  {
   "cell_type": "code",
   "execution_count": 12,
   "id": "10bd3546",
   "metadata": {},
   "outputs": [
    {
     "name": "stdout",
     "output_type": "stream",
     "text": [
      "+--------------------+--------+\n",
      "|              Region|count(1)|\n",
      "+--------------------+--------+\n",
      "|Middle East and N...|    1264|\n",
      "|Australia and Oce...|     797|\n",
      "|              Europe|    2633|\n",
      "|  Sub-Saharan Africa|    2603|\n",
      "|Central America a...|    1019|\n",
      "|       North America|     215|\n",
      "|                Asia|    1469|\n",
      "+--------------------+--------+\n",
      "\n"
     ]
    }
   ],
   "source": [
    "query=\"select Region,count(*) from books_table group by Region \"\n",
    "out=fetch(query)\n",
    "out.show()"
   ]
  },
  {
   "cell_type": "code",
   "execution_count": 13,
   "id": "78ecfadb",
   "metadata": {},
   "outputs": [
    {
     "name": "stdout",
     "output_type": "stream",
     "text": [
      "+--------------------+--------+\n",
      "|              Region|count(1)|\n",
      "+--------------------+--------+\n",
      "|                Asia|    1469|\n",
      "|Australia and Oce...|     797|\n",
      "|Central America a...|    1019|\n",
      "|              Europe|    2633|\n",
      "|Middle East and N...|    1264|\n",
      "|       North America|     215|\n",
      "|  Sub-Saharan Africa|    2603|\n",
      "+--------------------+--------+\n",
      "\n"
     ]
    }
   ],
   "source": [
    "query=\"select Region,count(*) from books_table group by Region order by Region asc \"\n",
    "out=fetch(query)\n",
    "out.show()"
   ]
  },
  {
   "cell_type": "code",
   "execution_count": 14,
   "id": "4e86aa5d",
   "metadata": {},
   "outputs": [
    {
     "name": "stdout",
     "output_type": "stream",
     "text": [
      "+--------------------+--------+---+\n",
      "|              Region|count(1)|row|\n",
      "+--------------------+--------+---+\n",
      "|  Sub-Saharan Africa|    2603|  7|\n",
      "|       North America|     215|  6|\n",
      "|Middle East and N...|    1264|  5|\n",
      "|              Europe|    2633|  4|\n",
      "|Central America a...|    1019|  3|\n",
      "|Australia and Oce...|     797|  2|\n",
      "|                Asia|    1469|  1|\n",
      "+--------------------+--------+---+\n",
      "\n"
     ]
    }
   ],
   "source": [
    "query=\"\"\"select Region,count(*), row_number() over(order by Region) as row \n",
    "        from books_table \n",
    "        group by Region \n",
    "        order by Region desc\"\"\"\n",
    "out=fetch(query)\n",
    "out.show()"
   ]
  },
  {
   "cell_type": "code",
   "execution_count": 15,
   "id": "4fbd2747",
   "metadata": {},
   "outputs": [],
   "source": [
    "out_data=out.tail(1)"
   ]
  },
  {
   "cell_type": "code",
   "execution_count": 16,
   "id": "3de0ec84",
   "metadata": {},
   "outputs": [
    {
     "data": {
      "text/plain": [
       "list"
      ]
     },
     "execution_count": 16,
     "metadata": {},
     "output_type": "execute_result"
    }
   ],
   "source": [
    "type(out_data)"
   ]
  },
  {
   "cell_type": "code",
   "execution_count": 17,
   "id": "9f58642d",
   "metadata": {},
   "outputs": [
    {
     "name": "stdout",
     "output_type": "stream",
     "text": [
      "Asia\n"
     ]
    }
   ],
   "source": [
    "for i in out_data:\n",
    "    print(i['Region'])"
   ]
  },
  {
   "cell_type": "code",
   "execution_count": 18,
   "id": "c10a64da",
   "metadata": {},
   "outputs": [
    {
     "name": "stdout",
     "output_type": "stream",
     "text": [
      "+--------------------+------------------------+\n",
      "|              Region|Total_Revenue_in_Billion|\n",
      "+--------------------+------------------------+\n",
      "|              Europe|                3481.372|\n",
      "|  Sub-Saharan Africa|                3350.556|\n",
      "|                Asia|                2005.306|\n",
      "|Middle East and N...|                1715.633|\n",
      "|Central America a...|                 1395.53|\n",
      "|Australia and Oce...|                1049.802|\n",
      "|       North America|                 335.352|\n",
      "+--------------------+------------------------+\n",
      "\n"
     ]
    }
   ],
   "source": [
    "query=\"\"\"select Region,round(sum(Total_Revenue)/1000000,3) as Total_Revenue_in_Billion\n",
    "        from books_table\n",
    "        group by Region\n",
    "        order by Total_Revenue_in_Billion desc\"\"\"\n",
    "out=fetch(query)\n",
    "out.show()"
   ]
  },
  {
   "cell_type": "markdown",
   "id": "62a0195f",
   "metadata": {},
   "source": [
    "from pyspark.sql import functions\n",
    "out1=out.withColumn(\"id\", functions.monotonically_increasing_id())"
   ]
  },
  {
   "cell_type": "code",
   "execution_count": 19,
   "id": "80bce245",
   "metadata": {},
   "outputs": [
    {
     "name": "stdout",
     "output_type": "stream",
     "text": [
      "+--------------------+------------------------+\n",
      "|              Region|Total_Revenue_in_Billion|\n",
      "+--------------------+------------------------+\n",
      "|              Europe|                3481.372|\n",
      "|  Sub-Saharan Africa|                3350.556|\n",
      "|                Asia|                2005.306|\n",
      "|Middle East and N...|                1715.633|\n",
      "|Central America a...|                 1395.53|\n",
      "|Australia and Oce...|                1049.802|\n",
      "|       North America|                 335.352|\n",
      "+--------------------+------------------------+\n",
      "\n"
     ]
    }
   ],
   "source": [
    "out.show()"
   ]
  },
  {
   "cell_type": "code",
   "execution_count": 20,
   "id": "d73c8239",
   "metadata": {},
   "outputs": [],
   "source": [
    "out.createOrReplaceTempView(\"Region_Revenue\")"
   ]
  },
  {
   "cell_type": "code",
   "execution_count": 21,
   "id": "e13b520a",
   "metadata": {},
   "outputs": [
    {
     "name": "stdout",
     "output_type": "stream",
     "text": [
      "+--------------------+------------------------+---+\n",
      "|              Region|Total_Revenue_in_Billion|row|\n",
      "+--------------------+------------------------+---+\n",
      "|              Europe|                3481.372|  1|\n",
      "|  Sub-Saharan Africa|                3350.556|  2|\n",
      "|                Asia|                2005.306|  3|\n",
      "|Middle East and N...|                1715.633|  4|\n",
      "|Central America a...|                 1395.53|  5|\n",
      "+--------------------+------------------------+---+\n",
      "\n"
     ]
    }
   ],
   "source": [
    "query=\"\"\"select Region,Total_Revenue_in_Billion,row_number() over(order by Total_Revenue_in_Billion desc ) as row\n",
    "    from Region_Revenue\n",
    "    limit 5\n",
    "    \"\"\"\n",
    "out=fetch(query)\n",
    "out.show()"
   ]
  },
  {
   "cell_type": "code",
   "execution_count": 22,
   "id": "9e6d0dc3",
   "metadata": {},
   "outputs": [
    {
     "name": "stdout",
     "output_type": "stream",
     "text": [
      "+--------------------+------------------------+\n",
      "|              Region|Total_Revenue_in_Billion|\n",
      "+--------------------+------------------------+\n",
      "|                Asia|                2005.306|\n",
      "|Middle East and N...|                1715.633|\n",
      "|Central America a...|                 1395.53|\n",
      "+--------------------+------------------------+\n",
      "\n"
     ]
    }
   ],
   "source": [
    "out.select(['Region','Total_Revenue_in_Billion']).filter(out['row'] >2).show()"
   ]
  },
  {
   "cell_type": "code",
   "execution_count": 23,
   "id": "2fec9c60",
   "metadata": {},
   "outputs": [
    {
     "data": {
      "text/plain": [
       "['file.parquet', 'filefrompandas.parquet']"
      ]
     },
     "execution_count": 23,
     "metadata": {},
     "output_type": "execute_result"
    }
   ],
   "source": [
    "from glob import glob\n",
    "glob('*.parquet')"
   ]
  },
  {
   "cell_type": "code",
   "execution_count": 43,
   "id": "777f3d94",
   "metadata": {
    "scrolled": true
   },
   "outputs": [
    {
     "name": "stdout",
     "output_type": "stream",
     "text": [
      "+------+----------+-------------+-------------+--------------+----------+---------+----------+----------+----------+---------+-------------+----------+------------+\n",
      "|Region|   Country|    Item_Type|Sales_Channel|Order_Priority|Order_Date| Order_ID| Ship_Date|Units_Sold|Unit_Price|Unit_Cost|Total_Revenue|Total_Cost|Total_Profit|\n",
      "+------+----------+-------------+-------------+--------------+----------+---------+----------+----------+----------+---------+-------------+----------+------------+\n",
      "|  Asia|      Laos|   Vegetables|       Online|             L| 2/20/2011|844532620| 3/20/2011|      4825|    154.06|    90.93|     743339.5| 438737.25|   304602.25|\n",
      "|  Asia|     China|    Baby Food|       Online|             C|04-10-2017|564251220|05-12-2017|      3330|    255.28|   159.42|     850082.4|  530868.6|    319213.8|\n",
      "|  Asia|     India|    Household|       Online|             C| 8/27/2016|151717174|09-02-2016|      5338|    668.27|   502.54|   3567225.26|2682558.52|   884666.74|\n",
      "|  Asia|     Japan|    Cosmetics|      Offline|             H| 9/19/2013|967895781| 9/28/2013|       725|     437.2|   263.33|     316970.0| 190914.25|   126055.75|\n",
      "|  Asia|Bangladesh|Personal Care|       Online|             L|12-11-2016|246147668| 1/13/2017|      9420|     81.73|    56.67|     769896.6|  533831.4|    236065.2|\n",
      "+------+----------+-------------+-------------+--------------+----------+---------+----------+----------+----------+---------+-------------+----------+------------+\n",
      "only showing top 5 rows\n",
      "\n"
     ]
    }
   ],
   "source": [
    "data.filter(data['Region']=='Asia').show(5)"
   ]
  },
  {
   "cell_type": "code",
   "execution_count": 65,
   "id": "6dfb5281",
   "metadata": {},
   "outputs": [
    {
     "name": "stdout",
     "output_type": "stream",
     "text": [
      "+---------------------------------+\n",
      "|Region                           |\n",
      "+---------------------------------+\n",
      "|Middle East and North Africa     |\n",
      "|Australia and Oceania            |\n",
      "|Europe                           |\n",
      "|Sub-Saharan Africa               |\n",
      "|Central America and the Caribbean|\n",
      "|North America                    |\n",
      "|Asia                             |\n",
      "+---------------------------------+\n",
      "\n"
     ]
    }
   ],
   "source": [
    "out2=data['Region',].distinct().show(data.count(),False)\n",
    "out2"
   ]
  },
  {
   "cell_type": "code",
   "execution_count": 63,
   "id": "91e0eba6",
   "metadata": {},
   "outputs": [
    {
     "data": {
      "text/plain": [
       "NoneType"
      ]
     },
     "execution_count": 63,
     "metadata": {},
     "output_type": "execute_result"
    }
   ],
   "source": [
    "#pq.write_table(data.filter(data['Region']=='Asia'),\"Asia.parquet\")\n",
    "type(out2)"
   ]
  },
  {
   "cell_type": "code",
   "execution_count": null,
   "id": "5ebfbc09",
   "metadata": {},
   "outputs": [],
   "source": []
  }
 ],
 "metadata": {
  "kernelspec": {
   "display_name": "Python 3",
   "language": "python",
   "name": "python3"
  },
  "language_info": {
   "codemirror_mode": {
    "name": "ipython",
    "version": 3
   },
   "file_extension": ".py",
   "mimetype": "text/x-python",
   "name": "python",
   "nbconvert_exporter": "python",
   "pygments_lexer": "ipython3",
   "version": "3.8.8"
  }
 },
 "nbformat": 4,
 "nbformat_minor": 5
}
