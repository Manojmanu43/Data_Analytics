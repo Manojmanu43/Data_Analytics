{
 "cells": [
  {
   "cell_type": "code",
   "execution_count": 8,
   "id": "000f6222",
   "metadata": {},
   "outputs": [
    {
     "data": {
      "text/html": [
       "\n",
       "            <div>\n",
       "                <p><b>SparkSession - in-memory</b></p>\n",
       "                \n",
       "        <div>\n",
       "            <p><b>SparkContext</b></p>\n",
       "\n",
       "            <p><a href=\"http://MSI:4040\">Spark UI</a></p>\n",
       "\n",
       "            <dl>\n",
       "              <dt>Version</dt>\n",
       "                <dd><code>v3.1.2</code></dd>\n",
       "              <dt>Master</dt>\n",
       "                <dd><code>local[*]</code></dd>\n",
       "              <dt>AppName</dt>\n",
       "                <dd><code>spark_parquet_example</code></dd>\n",
       "            </dl>\n",
       "        </div>\n",
       "        \n",
       "            </div>\n",
       "        "
      ],
      "text/plain": [
       "<pyspark.sql.session.SparkSession at 0x1d69e17da60>"
      ]
     },
     "execution_count": 8,
     "metadata": {},
     "output_type": "execute_result"
    }
   ],
   "source": [
    "from pyspark.sql import SparkSession\n",
    "import findspark\n",
    "findspark.find()\n",
    "findspark.init()\n",
    "spark=SparkSession.builder.appName('spark_parquet_example').getOrCreate()\n",
    "spark"
   ]
  },
  {
   "cell_type": "code",
   "execution_count": 11,
   "id": "69f89ff6",
   "metadata": {},
   "outputs": [],
   "source": [
    "df=spark.read.csv(r'C:\\Users\\venka\\My Python Work\\Pyspark\\10000 Sales Records.csv',header=True,inferSchema=True)"
   ]
  },
  {
   "cell_type": "code",
   "execution_count": 3,
   "id": "ff8c61f4",
   "metadata": {},
   "outputs": [
    {
     "data": {
      "text/plain": [
       "pyspark.sql.dataframe.DataFrame"
      ]
     },
     "execution_count": 3,
     "metadata": {},
     "output_type": "execute_result"
    }
   ],
   "source": [
    "type(df)"
   ]
  },
  {
   "cell_type": "code",
   "execution_count": 70,
   "id": "101c0d5d",
   "metadata": {},
   "outputs": [
    {
     "data": {
      "text/plain": [
       "10000"
      ]
     },
     "execution_count": 70,
     "metadata": {},
     "output_type": "execute_result"
    }
   ],
   "source": [
    "df.count()"
   ]
  },
  {
   "cell_type": "code",
   "execution_count": 13,
   "id": "7b45d1df",
   "metadata": {},
   "outputs": [],
   "source": [
    "df.write.parquet(\"success.parquet\")"
   ]
  },
  {
   "cell_type": "code",
   "execution_count": 14,
   "id": "cec318f1",
   "metadata": {},
   "outputs": [],
   "source": [
    "df2=spark.read.parquet('file.parquet')"
   ]
  },
  {
   "cell_type": "code",
   "execution_count": 69,
   "id": "1e23ac4d",
   "metadata": {},
   "outputs": [
    {
     "data": {
      "text/plain": [
       "10000"
      ]
     },
     "execution_count": 69,
     "metadata": {},
     "output_type": "execute_result"
    }
   ],
   "source": [
    "df2.count()"
   ]
  },
  {
   "cell_type": "markdown",
   "id": "b84bd757",
   "metadata": {},
   "source": [
    "list_data=df2['Region',].distinct().show(df2.count(),False)"
   ]
  },
  {
   "cell_type": "markdown",
   "id": "0f0af2e0",
   "metadata": {},
   "source": [
    "df3=df2.toPandas()"
   ]
  },
  {
   "cell_type": "markdown",
   "id": "bfc63f1d",
   "metadata": {},
   "source": [
    "df4=df2.select('Region')\n",
    "list_data=df4.distinct().show(df2.count(),False)"
   ]
  },
  {
   "cell_type": "markdown",
   "id": "a8aeaa81",
   "metadata": {},
   "source": [
    "list_data"
   ]
  },
  {
   "cell_type": "code",
   "execution_count": 44,
   "id": "8cf643c6",
   "metadata": {},
   "outputs": [
    {
     "name": "stdout",
     "output_type": "stream",
     "text": [
      "+---------------------------------+\n",
      "|Region                           |\n",
      "+---------------------------------+\n",
      "|Middle East and North Africa     |\n",
      "|Australia and Oceania            |\n",
      "|Europe                           |\n",
      "|Sub-Saharan Africa               |\n",
      "|Central America and the Caribbean|\n",
      "|North America                    |\n",
      "|Asia                             |\n",
      "+---------------------------------+\n",
      "\n"
     ]
    }
   ],
   "source": [
    "df2.createOrReplaceTempView(\"books\")\n",
    "result1=spark.sql(\"select distinct Region from books\")\n",
    "result1.show(10,False)"
   ]
  },
  {
   "cell_type": "code",
   "execution_count": 42,
   "id": "eab1590b",
   "metadata": {},
   "outputs": [
    {
     "name": "stdout",
     "output_type": "stream",
     "text": [
      "+------+----------+-------------+-------------+--------------+----------+---------+----------+----------+----------+---------+-------------+----------+------------+\n",
      "|Region|Country   |Item_Type    |Sales_Channel|Order_Priority|Order_Date|Order_ID |Ship_Date |Units_Sold|Unit_Price|Unit_Cost|Total_Revenue|Total_Cost|Total_Profit|\n",
      "+------+----------+-------------+-------------+--------------+----------+---------+----------+----------+----------+---------+-------------+----------+------------+\n",
      "|Asia  |Laos      |Vegetables   |Online       |L             |2/20/2011 |844532620|3/20/2011 |4825      |154.06    |90.93    |743339.5     |438737.25 |304602.25   |\n",
      "|Asia  |China     |Baby Food    |Online       |C             |04-10-2017|564251220|05-12-2017|3330      |255.28    |159.42   |850082.4     |530868.6  |319213.8    |\n",
      "|Asia  |India     |Household    |Online       |C             |8/27/2016 |151717174|09-02-2016|5338      |668.27    |502.54   |3567225.26   |2682558.52|884666.74   |\n",
      "|Asia  |Japan     |Cosmetics    |Offline      |H             |9/19/2013 |967895781|9/28/2013 |725       |437.2     |263.33   |316970.0     |190914.25 |126055.75   |\n",
      "|Asia  |Bangladesh|Personal Care|Online       |L             |12-11-2016|246147668|1/13/2017 |9420      |81.73     |56.67    |769896.6     |533831.4  |236065.2    |\n",
      "+------+----------+-------------+-------------+--------------+----------+---------+----------+----------+----------+---------+-------------+----------+------------+\n",
      "only showing top 5 rows\n",
      "\n"
     ]
    }
   ],
   "source": [
    "result=spark.sql(\"select * from books where Region='Asia'\")\n",
    "result.show(5,False)"
   ]
  },
  {
   "cell_type": "markdown",
   "id": "9cbe0bc4",
   "metadata": {},
   "source": [
    "result.write.parquet(\"Asia.parquet\")"
   ]
  },
  {
   "cell_type": "code",
   "execution_count": 54,
   "id": "aca466ee",
   "metadata": {},
   "outputs": [
    {
     "data": {
      "text/plain": [
       "pyspark.sql.dataframe.DataFrame"
      ]
     },
     "execution_count": 54,
     "metadata": {},
     "output_type": "execute_result"
    }
   ],
   "source": [
    "type(result1)"
   ]
  },
  {
   "cell_type": "code",
   "execution_count": 88,
   "id": "f9015d37",
   "metadata": {},
   "outputs": [
    {
     "data": {
      "text/plain": [
       "list"
      ]
     },
     "execution_count": 88,
     "metadata": {},
     "output_type": "execute_result"
    }
   ],
   "source": [
    "list_data=result1.toLocalIterator()\n",
    "reg_list=list(list_data)\n",
    "type(reg_list)"
   ]
  },
  {
   "cell_type": "code",
   "execution_count": 92,
   "id": "bdea2718",
   "metadata": {},
   "outputs": [
    {
     "name": "stdout",
     "output_type": "stream",
     "text": [
      "Middle East and North Africa\n",
      "Australia and Oceania\n",
      "Europe\n",
      "Sub-Saharan Africa\n",
      "Central America and the Caribbean\n",
      "North America\n",
      "Asia\n"
     ]
    }
   ],
   "source": [
    "for i in reg_list:\n",
    "    print(i['Region'])"
   ]
  },
  {
   "cell_type": "code",
   "execution_count": 79,
   "id": "4a34e0e2",
   "metadata": {},
   "outputs": [],
   "source": [
    "def write_mul_files(reg):\n",
    "    query=\"select * from books where Region='{}'\".format(reg)\n",
    "    result=spark.sql(query)\n",
    "    result.write.parquet(reg+\".parquet\")"
   ]
  },
  {
   "cell_type": "code",
   "execution_count": 93,
   "id": "a1765de2",
   "metadata": {},
   "outputs": [],
   "source": [
    "for i in reg_list:\n",
    "    write_mul_files(i['Region'])\n",
    "    \n",
    "#write_mul_files('Asia')"
   ]
  },
  {
   "cell_type": "raw",
   "id": "2ebbc299",
   "metadata": {},
   "source": [
    "spark.stop()"
   ]
  },
  {
   "cell_type": "code",
   "execution_count": null,
   "id": "3e1fb920",
   "metadata": {},
   "outputs": [],
   "source": []
  }
 ],
 "metadata": {
  "kernelspec": {
   "display_name": "Python 3",
   "language": "python",
   "name": "python3"
  },
  "language_info": {
   "codemirror_mode": {
    "name": "ipython",
    "version": 3
   },
   "file_extension": ".py",
   "mimetype": "text/x-python",
   "name": "python",
   "nbconvert_exporter": "python",
   "pygments_lexer": "ipython3",
   "version": "3.8.8"
  }
 },
 "nbformat": 4,
 "nbformat_minor": 5
}
